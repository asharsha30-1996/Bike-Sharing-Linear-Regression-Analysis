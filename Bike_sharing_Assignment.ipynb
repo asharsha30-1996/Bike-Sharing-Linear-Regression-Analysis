{
 "cells": [
  {
   "cell_type": "code",
   "execution_count": 115,
   "metadata": {
    "id": "LKHM1db9Tnkb"
   },
   "outputs": [],
   "source": [
    "import warnings\n",
    "warnings.filterwarnings('ignore')\n",
    "import pandas as pd\n",
    "import numpy as np\n",
    "import matplotlib.pyplot as plt\n",
    "import seaborn as sns\n",
    "\n"
   ]
  },
  {
   "cell_type": "markdown",
   "metadata": {
    "id": "sPWGBD1hU1YA"
   },
   "source": [
    "# Reading and doing usual data quality checks"
   ]
  },
  {
   "cell_type": "code",
   "execution_count": 116,
   "metadata": {
    "colab": {
     "base_uri": "https://localhost:8080/",
     "height": 313
    },
    "id": "X07Vc22WU6bz",
    "outputId": "2b4821d0-729c-4a8a-a8d0-014c30c0a55a"
   },
   "outputs": [
    {
     "data": {
      "text/html": [
       "<div>\n",
       "<style scoped>\n",
       "    .dataframe tbody tr th:only-of-type {\n",
       "        vertical-align: middle;\n",
       "    }\n",
       "\n",
       "    .dataframe tbody tr th {\n",
       "        vertical-align: top;\n",
       "    }\n",
       "\n",
       "    .dataframe thead th {\n",
       "        text-align: right;\n",
       "    }\n",
       "</style>\n",
       "<table border=\"1\" class=\"dataframe\">\n",
       "  <thead>\n",
       "    <tr style=\"text-align: right;\">\n",
       "      <th></th>\n",
       "      <th>instant</th>\n",
       "      <th>dteday</th>\n",
       "      <th>season</th>\n",
       "      <th>yr</th>\n",
       "      <th>mnth</th>\n",
       "      <th>holiday</th>\n",
       "      <th>weekday</th>\n",
       "      <th>workingday</th>\n",
       "      <th>weathersit</th>\n",
       "      <th>temp</th>\n",
       "      <th>atemp</th>\n",
       "      <th>hum</th>\n",
       "      <th>windspeed</th>\n",
       "      <th>casual</th>\n",
       "      <th>registered</th>\n",
       "      <th>cnt</th>\n",
       "    </tr>\n",
       "  </thead>\n",
       "  <tbody>\n",
       "    <tr>\n",
       "      <th>0</th>\n",
       "      <td>1</td>\n",
       "      <td>01-01-2018</td>\n",
       "      <td>1</td>\n",
       "      <td>0</td>\n",
       "      <td>1</td>\n",
       "      <td>0</td>\n",
       "      <td>1</td>\n",
       "      <td>1</td>\n",
       "      <td>2</td>\n",
       "      <td>14.110847</td>\n",
       "      <td>18.18125</td>\n",
       "      <td>80.5833</td>\n",
       "      <td>10.749882</td>\n",
       "      <td>331</td>\n",
       "      <td>654</td>\n",
       "      <td>985</td>\n",
       "    </tr>\n",
       "    <tr>\n",
       "      <th>1</th>\n",
       "      <td>2</td>\n",
       "      <td>02-01-2018</td>\n",
       "      <td>1</td>\n",
       "      <td>0</td>\n",
       "      <td>1</td>\n",
       "      <td>0</td>\n",
       "      <td>2</td>\n",
       "      <td>1</td>\n",
       "      <td>2</td>\n",
       "      <td>14.902598</td>\n",
       "      <td>17.68695</td>\n",
       "      <td>69.6087</td>\n",
       "      <td>16.652113</td>\n",
       "      <td>131</td>\n",
       "      <td>670</td>\n",
       "      <td>801</td>\n",
       "    </tr>\n",
       "    <tr>\n",
       "      <th>2</th>\n",
       "      <td>3</td>\n",
       "      <td>03-01-2018</td>\n",
       "      <td>1</td>\n",
       "      <td>0</td>\n",
       "      <td>1</td>\n",
       "      <td>0</td>\n",
       "      <td>3</td>\n",
       "      <td>1</td>\n",
       "      <td>1</td>\n",
       "      <td>8.050924</td>\n",
       "      <td>9.47025</td>\n",
       "      <td>43.7273</td>\n",
       "      <td>16.636703</td>\n",
       "      <td>120</td>\n",
       "      <td>1229</td>\n",
       "      <td>1349</td>\n",
       "    </tr>\n",
       "    <tr>\n",
       "      <th>3</th>\n",
       "      <td>4</td>\n",
       "      <td>04-01-2018</td>\n",
       "      <td>1</td>\n",
       "      <td>0</td>\n",
       "      <td>1</td>\n",
       "      <td>0</td>\n",
       "      <td>4</td>\n",
       "      <td>1</td>\n",
       "      <td>1</td>\n",
       "      <td>8.200000</td>\n",
       "      <td>10.60610</td>\n",
       "      <td>59.0435</td>\n",
       "      <td>10.739832</td>\n",
       "      <td>108</td>\n",
       "      <td>1454</td>\n",
       "      <td>1562</td>\n",
       "    </tr>\n",
       "    <tr>\n",
       "      <th>4</th>\n",
       "      <td>5</td>\n",
       "      <td>05-01-2018</td>\n",
       "      <td>1</td>\n",
       "      <td>0</td>\n",
       "      <td>1</td>\n",
       "      <td>0</td>\n",
       "      <td>5</td>\n",
       "      <td>1</td>\n",
       "      <td>1</td>\n",
       "      <td>9.305237</td>\n",
       "      <td>11.46350</td>\n",
       "      <td>43.6957</td>\n",
       "      <td>12.522300</td>\n",
       "      <td>82</td>\n",
       "      <td>1518</td>\n",
       "      <td>1600</td>\n",
       "    </tr>\n",
       "  </tbody>\n",
       "</table>\n",
       "</div>"
      ],
      "text/plain": [
       "   instant      dteday  season  yr  mnth  holiday  weekday  workingday  \\\n",
       "0        1  01-01-2018       1   0     1        0        1           1   \n",
       "1        2  02-01-2018       1   0     1        0        2           1   \n",
       "2        3  03-01-2018       1   0     1        0        3           1   \n",
       "3        4  04-01-2018       1   0     1        0        4           1   \n",
       "4        5  05-01-2018       1   0     1        0        5           1   \n",
       "\n",
       "   weathersit       temp     atemp      hum  windspeed  casual  registered  \\\n",
       "0           2  14.110847  18.18125  80.5833  10.749882     331         654   \n",
       "1           2  14.902598  17.68695  69.6087  16.652113     131         670   \n",
       "2           1   8.050924   9.47025  43.7273  16.636703     120        1229   \n",
       "3           1   8.200000  10.60610  59.0435  10.739832     108        1454   \n",
       "4           1   9.305237  11.46350  43.6957  12.522300      82        1518   \n",
       "\n",
       "    cnt  \n",
       "0   985  \n",
       "1   801  \n",
       "2  1349  \n",
       "3  1562  \n",
       "4  1600  "
      ]
     },
     "execution_count": 116,
     "metadata": {},
     "output_type": "execute_result"
    }
   ],
   "source": [
    "bike_sharing=pd.read_csv('day.csv')\n",
    "bike_sharing.head()"
   ]
  },
  {
   "cell_type": "code",
   "execution_count": 117,
   "metadata": {
    "colab": {
     "base_uri": "https://localhost:8080/"
    },
    "id": "M3cOqas1KLXS",
    "outputId": "aba20544-59fe-4c71-f091-ff93194c1d22"
   },
   "outputs": [
    {
     "name": "stdout",
     "output_type": "stream",
     "text": [
      "Target counts in the year 2018 1243103\n",
      "Target counts in the year 2019 2047742\n",
      "% increase in count of people in 2019 with respect to 2018 64.72826467316062\n"
     ]
    }
   ],
   "source": [
    "##Target count comparision in 2018 vs 2019\n",
    "a=bike_sharing[bike_sharing['yr']==0].cnt.sum()\n",
    "b=bike_sharing[bike_sharing['yr']==1].cnt.sum()\n",
    "print('Target counts in the year 2018', a)\n",
    "print('Target counts in the year 2019', b)\n",
    "print('% increase in count of people in 2019 with respect to 2018', ((b-a)/a)*100)\n"
   ]
  },
  {
   "cell_type": "code",
   "execution_count": 118,
   "metadata": {
    "colab": {
     "base_uri": "https://localhost:8080/"
    },
    "id": "WN9uDCnmWR6h",
    "outputId": "dd6f2c9d-8f4b-425a-e305-5601589ff416"
   },
   "outputs": [
    {
     "name": "stdout",
     "output_type": "stream",
     "text": [
      "Number of samples and features are 730 , 16 respectively\n"
     ]
    }
   ],
   "source": [
    "print('Number of samples and features are',bike_sharing.shape[0],',',bike_sharing.shape[1],'respectively')"
   ]
  },
  {
   "cell_type": "markdown",
   "metadata": {
    "id": "F1O4ECFPVIJi"
   },
   "source": [
    "# Finding the mean percentage of missing values in the dataset "
   ]
  },
  {
   "cell_type": "code",
   "execution_count": 119,
   "metadata": {
    "colab": {
     "base_uri": "https://localhost:8080/"
    },
    "id": "5RoiqaK-VNsb",
    "outputId": "30b7e5d7-c449-4ce4-89ba-e66bd0eadc3a"
   },
   "outputs": [
    {
     "name": "stdout",
     "output_type": "stream",
     "text": [
      "% of missing values across feature instant       0.0\n",
      "dteday        0.0\n",
      "season        0.0\n",
      "yr            0.0\n",
      "mnth          0.0\n",
      "holiday       0.0\n",
      "weekday       0.0\n",
      "workingday    0.0\n",
      "weathersit    0.0\n",
      "temp          0.0\n",
      "atemp         0.0\n",
      "hum           0.0\n",
      "windspeed     0.0\n",
      "casual        0.0\n",
      "registered    0.0\n",
      "cnt           0.0\n",
      "dtype: float64\n"
     ]
    }
   ],
   "source": [
    "missing_value=((bike_sharing.isnull().mean())/len(bike_sharing))*100\n",
    "print('% of missing values across feature',missing_value)"
   ]
  },
  {
   "cell_type": "markdown",
   "metadata": {
    "id": "91cdEsJkVolV"
   },
   "source": [
    "# There are no missing values , we can check the presence of any duplicate rows in the dataset"
   ]
  },
  {
   "cell_type": "code",
   "execution_count": 120,
   "metadata": {
    "colab": {
     "base_uri": "https://localhost:8080/"
    },
    "id": "FlzSzNL5Vw3e",
    "outputId": "220bfba5-cdb2-4fff-fe9e-49913585789f"
   },
   "outputs": [
    {
     "data": {
      "text/plain": [
       "False    730\n",
       "dtype: int64"
      ]
     },
     "execution_count": 120,
     "metadata": {},
     "output_type": "execute_result"
    }
   ],
   "source": [
    "dups_check=bike_sharing.duplicated()\n",
    "dups_check.value_counts()\n"
   ]
  },
  {
   "cell_type": "markdown",
   "metadata": {
    "id": "A9aBbEVNWy4U"
   },
   "source": [
    "# There are no duplicates in the data now we inspect the data types of the columns"
   ]
  },
  {
   "cell_type": "code",
   "execution_count": 121,
   "metadata": {
    "colab": {
     "base_uri": "https://localhost:8080/"
    },
    "id": "8BSkxKtgW4Bt",
    "outputId": "2ab080c9-0089-43eb-fce8-339bfc2bfbbe"
   },
   "outputs": [
    {
     "name": "stdout",
     "output_type": "stream",
     "text": [
      "Index([], dtype='object')\n",
      "Index(['temp', 'atemp', 'hum', 'windspeed'], dtype='object')\n",
      "Index(['dteday'], dtype='object')\n"
     ]
    }
   ],
   "source": [
    "#Segregating the int , float and object separately\n",
    "integer_features=bike_sharing.select_dtypes(include=['int'])\n",
    "integer_features.columns\n",
    "float_features=bike_sharing.select_dtypes(include=['float'])\n",
    "float_features.columns\n",
    "object_features=bike_sharing.select_dtypes(include=['object'])\n",
    "object_features.columns\n",
    "\n",
    "print(integer_features.columns)\n",
    "print(float_features.columns)\n",
    "print(object_features.columns)\n"
   ]
  },
  {
   "cell_type": "markdown",
   "metadata": {
    "id": "VORtb1bnYIJv"
   },
   "source": [
    "# Data type and variable conversion"
   ]
  },
  {
   "cell_type": "code",
   "execution_count": 122,
   "metadata": {
    "id": "GsYx1IAeYN5l"
   },
   "outputs": [],
   "source": [
    "##On inspecting the data we shall drop the column instant as it does not add any values to the data set\n",
    "bike_sharing.drop('instant',inplace=True,axis=1)"
   ]
  },
  {
   "cell_type": "markdown",
   "metadata": {
    "id": "CS79SQs_Zi88"
   },
   "source": [
    "# From the data dictionary it is clear that the cnt target variable is a linear combination of casual and registered feature . It is clear to drop them now"
   ]
  },
  {
   "cell_type": "code",
   "execution_count": 123,
   "metadata": {
    "id": "V9QQndV8YqmJ"
   },
   "outputs": [],
   "source": [
    "bike_sharing.drop(['casual','registered','dteday'],inplace=True,axis=1)"
   ]
  },
  {
   "cell_type": "code",
   "execution_count": 124,
   "metadata": {
    "colab": {
     "base_uri": "https://localhost:8080/"
    },
    "id": "5C29GuFMIhBs",
    "outputId": "7d82cbd1-abce-4ccf-fea9-81c0a30f4e45"
   },
   "outputs": [
    {
     "name": "stdout",
     "output_type": "stream",
     "text": [
      "<class 'pandas.core.frame.DataFrame'>\n",
      "RangeIndex: 730 entries, 0 to 729\n",
      "Data columns (total 12 columns):\n",
      "season        730 non-null int64\n",
      "yr            730 non-null int64\n",
      "mnth          730 non-null int64\n",
      "holiday       730 non-null int64\n",
      "weekday       730 non-null int64\n",
      "workingday    730 non-null int64\n",
      "weathersit    730 non-null int64\n",
      "temp          730 non-null float64\n",
      "atemp         730 non-null float64\n",
      "hum           730 non-null float64\n",
      "windspeed     730 non-null float64\n",
      "cnt           730 non-null int64\n",
      "dtypes: float64(4), int64(8)\n",
      "memory usage: 68.5 KB\n"
     ]
    }
   ],
   "source": [
    "bike_sharing.info()"
   ]
  },
  {
   "cell_type": "code",
   "execution_count": 125,
   "metadata": {
    "colab": {
     "base_uri": "https://localhost:8080/"
    },
    "id": "6DZZOVegYqow",
    "outputId": "60a6cf2f-b103-4189-e590-3a0a8d1dda85"
   },
   "outputs": [
    {
     "data": {
      "text/plain": [
       "Index([], dtype='object')"
      ]
     },
     "execution_count": 125,
     "metadata": {},
     "output_type": "execute_result"
    }
   ],
   "source": [
    "## We can find the potential numeric columns which can be expressed as categorical columns \n",
    "\n",
    "integer_features=bike_sharing.select_dtypes(include=['int'])\n",
    "integer_features.columns"
   ]
  },
  {
   "cell_type": "markdown",
   "metadata": {
    "id": "jjDG50bma3aU"
   },
   "source": [
    "# Based on the data dictionary given we can make the below int variables to object and apply one-hot encoding\n",
    "\n",
    "1. season\n",
    "2. weekday \n",
    "3. weathersit \n",
    "4. mnth \n",
    "\n",
    "## Also there could be other columns like holiday , yr and workingday which is already taking binary values and encoded , so there is no need to apply any encoding techniques on them "
   ]
  },
  {
   "cell_type": "code",
   "execution_count": 126,
   "metadata": {
    "id": "c99iYrehYrEk"
   },
   "outputs": [],
   "source": [
    "bike_sharing['season']=bike_sharing['season'].astype('category')\n",
    "bike_sharing['weekday']=bike_sharing['weekday'].astype('category')\n",
    "bike_sharing['weathersit']=bike_sharing['weathersit'].astype('category')\n",
    "bike_sharing['mnth']=bike_sharing['mnth'].astype('category')"
   ]
  },
  {
   "cell_type": "code",
   "execution_count": 127,
   "metadata": {
    "colab": {
     "base_uri": "https://localhost:8080/"
    },
    "id": "TUNEaq7hYrG0",
    "outputId": "883fca13-a76e-46a2-cff3-aec235be7105"
   },
   "outputs": [
    {
     "name": "stdout",
     "output_type": "stream",
     "text": [
      "Index([], dtype='object')\n",
      "Index(['temp', 'atemp', 'hum', 'windspeed'], dtype='object')\n",
      "Index(['season', 'mnth', 'weekday', 'weathersit'], dtype='object')\n"
     ]
    }
   ],
   "source": [
    "#Now printing back the integer , float and object columns\n",
    "\n",
    "integer_features=bike_sharing.select_dtypes(include=['int'])\n",
    "integer_features.columns\n",
    "float_features=bike_sharing.select_dtypes(include=['float'])\n",
    "float_features.columns\n",
    "object_features=bike_sharing.select_dtypes(include=['category'])\n",
    "object_features.columns\n",
    "\n",
    "print(integer_features.columns)\n",
    "print(float_features.columns)\n",
    "print(object_features.columns)"
   ]
  },
  {
   "cell_type": "markdown",
   "metadata": {
    "id": "wjc2ugptwl48"
   },
   "source": [
    "# Visualising the dataset to understand the dependancy with cnt variable"
   ]
  },
  {
   "cell_type": "code",
   "execution_count": 128,
   "metadata": {
    "colab": {
     "base_uri": "https://localhost:8080/",
     "height": 874
    },
    "id": "lPNtuXOBwFur",
    "outputId": "ef62b927-1e7e-420c-8f2f-0a726964be66"
   },
   "outputs": [
    {
     "data": {
      "image/png": "[encoded data removed]",
      "text/plain": [
       "<Figure size 720x720 with 20 Axes>"
      ]
     },
     "metadata": {
      "needs_background": "light"
     },
     "output_type": "display_data"
    }
   ],
   "source": [
    "##Copying bike_sharing to another dataframe\n",
    "num_list=[]\n",
    "num_list.append(integer_features.columns.values.tolist())\n",
    "num_list.append(float_features.columns.values.tolist())\n",
    "num_list=num_list[0]+num_list[1]\n",
    "num_list\n",
    "sns.pairplot(bike_sharing[num_list],diag_kind='kde')\n",
    "plt.show()\n"
   ]
  },
  {
   "cell_type": "markdown",
   "metadata": {
    "id": "TOmSQKb4wvCC"
   },
   "source": [
    "# We could see that the atemp , temp and cnt have linear relationship among them and other numeric variables are sparsely correlated"
   ]
  },
  {
   "cell_type": "markdown",
   "metadata": {
    "id": "a3yeox02w9fl"
   },
   "source": [
    "# Analysing the categorical variables and its influence on cnt variable. We analyse using box plot to verify the pattern . Our target variables are\n",
    "\n",
    "1.season vs cnt\n",
    "\n",
    "2.weekday vs cnt\n",
    "\n",
    "3.weathersit vs cnt\n",
    "\n",
    "4.mnth vs cnt\n",
    "\n",
    "5.workingday vs cnt"
   ]
  },
  {
   "cell_type": "code",
   "execution_count": 129,
   "metadata": {
    "colab": {
     "base_uri": "https://localhost:8080/",
     "height": 299
    },
    "id": "aIooOztcw8sH",
    "outputId": "0b91a3f3-0cb2-4496-f6c8-50682078513e"
   },
   "outputs": [
    {
     "data": {
      "image/png": "[encoded data removed]",
      "text/plain": [
       "<Figure size 1440x432 with 3 Axes>"
      ]
     },
     "metadata": {
      "needs_background": "light"
     },
     "output_type": "display_data"
    }
   ],
   "source": [
    "plt.figure(figsize=[20,6])\n",
    "ax1=plt.subplot(1,3,1)\n",
    "sns.boxplot(data=bike_sharing,x='season',y='cnt')\n",
    "plt.title('Effect of cnt vs season')\n",
    "ax1=plt.subplot(1,3,2)\n",
    "sns.boxplot(data=bike_sharing,x='weekday',y='cnt')\n",
    "plt.title('Effect of cnt vs weekday')\n",
    "ax1=plt.subplot(1,3,3)\n",
    "sns.boxplot(data=bike_sharing,x='weathersit',y='cnt')\n",
    "plt.title('Effect of cnt vs weathersit')\n",
    "plt.show()"
   ]
  },
  {
   "cell_type": "markdown",
   "metadata": {
    "id": "KVOgN3ZCxnO1"
   },
   "source": [
    "# Some observations based on the above box plots are as follows\n",
    "\n",
    "1.The season determines the cnt variable from the plot the season corresponding to summer and fall have higher cnt values \n",
    "\n",
    "2.Weekday does not show strong relation with cnt variable \n",
    "\n",
    "3.Weatherit has also some relation with the cnt as the weathersit_1 shows maximum cnt followed by weathersit_2 and weathersit_3 respectively "
   ]
  },
  {
   "cell_type": "code",
   "execution_count": 130,
   "metadata": {
    "colab": {
     "base_uri": "https://localhost:8080/",
     "height": 299
    },
    "id": "bdS37qojw8vf",
    "outputId": "92ae4b79-03b1-4a51-8400-1626adc35862"
   },
   "outputs": [
    {
     "data": {
      "image/png": "[encoded data removed]",
      "text/plain": [
       "<Figure size 1440x432 with 2 Axes>"
      ]
     },
     "metadata": {
      "needs_background": "light"
     },
     "output_type": "display_data"
    }
   ],
   "source": [
    "plt.figure(figsize=[20,6])\n",
    "ax1=plt.subplot(1,2,1)\n",
    "sns.boxplot(data=bike_sharing,x='mnth',y='cnt')\n",
    "plt.title('Effect of cnt vs mnth')\n",
    "ax1=plt.subplot(1,2,2)\n",
    "sns.boxplot(data=bike_sharing,x='workingday',y='cnt')\n",
    "plt.title('Effect of cnt vs workingday')\n",
    "plt.show()\n"
   ]
  },
  {
   "cell_type": "markdown",
   "metadata": {
    "id": "RTNxPF2JzsP8"
   },
   "source": [
    "\n",
    "\n",
    "1.The months 5,6,7,8,9 and 10 have some strong influence on cnt this trend might be because this scheme can be popular in the middle of the month and shade away on 11 and 12 (might be due to winter holidays)\n",
    "\n",
    "2.Working day also has strong influence on cnt . It is observed that irrespective of working day or not there is a significant raise in cnt with non-working day being slighty on the upper side when corresponding to cnt."
   ]
  },
  {
   "cell_type": "code",
   "execution_count": 131,
   "metadata": {
    "colab": {
     "base_uri": "https://localhost:8080/",
     "height": 226
    },
    "id": "FyZxvj8yYrKv",
    "outputId": "7cae9978-3fd7-4ada-81ba-f20803c4ad97"
   },
   "outputs": [
    {
     "data": {
      "text/html": [
       "<div>\n",
       "<style scoped>\n",
       "    .dataframe tbody tr th:only-of-type {\n",
       "        vertical-align: middle;\n",
       "    }\n",
       "\n",
       "    .dataframe tbody tr th {\n",
       "        vertical-align: top;\n",
       "    }\n",
       "\n",
       "    .dataframe thead th {\n",
       "        text-align: right;\n",
       "    }\n",
       "</style>\n",
       "<table border=\"1\" class=\"dataframe\">\n",
       "  <thead>\n",
       "    <tr style=\"text-align: right;\">\n",
       "      <th></th>\n",
       "      <th>season</th>\n",
       "      <th>yr</th>\n",
       "      <th>mnth</th>\n",
       "      <th>holiday</th>\n",
       "      <th>weekday</th>\n",
       "      <th>workingday</th>\n",
       "      <th>weathersit</th>\n",
       "      <th>temp</th>\n",
       "      <th>atemp</th>\n",
       "      <th>hum</th>\n",
       "      <th>...</th>\n",
       "      <th>mnth_11</th>\n",
       "      <th>mnth_12</th>\n",
       "      <th>weekday_1</th>\n",
       "      <th>weekday_2</th>\n",
       "      <th>weekday_3</th>\n",
       "      <th>weekday_4</th>\n",
       "      <th>weekday_5</th>\n",
       "      <th>weekday_6</th>\n",
       "      <th>weathersit_2</th>\n",
       "      <th>weathersit_3</th>\n",
       "    </tr>\n",
       "  </thead>\n",
       "  <tbody>\n",
       "    <tr>\n",
       "      <th>0</th>\n",
       "      <td>1</td>\n",
       "      <td>0</td>\n",
       "      <td>1</td>\n",
       "      <td>0</td>\n",
       "      <td>1</td>\n",
       "      <td>1</td>\n",
       "      <td>2</td>\n",
       "      <td>14.110847</td>\n",
       "      <td>18.18125</td>\n",
       "      <td>80.5833</td>\n",
       "      <td>...</td>\n",
       "      <td>0</td>\n",
       "      <td>0</td>\n",
       "      <td>1</td>\n",
       "      <td>0</td>\n",
       "      <td>0</td>\n",
       "      <td>0</td>\n",
       "      <td>0</td>\n",
       "      <td>0</td>\n",
       "      <td>1</td>\n",
       "      <td>0</td>\n",
       "    </tr>\n",
       "    <tr>\n",
       "      <th>1</th>\n",
       "      <td>1</td>\n",
       "      <td>0</td>\n",
       "      <td>1</td>\n",
       "      <td>0</td>\n",
       "      <td>2</td>\n",
       "      <td>1</td>\n",
       "      <td>2</td>\n",
       "      <td>14.902598</td>\n",
       "      <td>17.68695</td>\n",
       "      <td>69.6087</td>\n",
       "      <td>...</td>\n",
       "      <td>0</td>\n",
       "      <td>0</td>\n",
       "      <td>0</td>\n",
       "      <td>1</td>\n",
       "      <td>0</td>\n",
       "      <td>0</td>\n",
       "      <td>0</td>\n",
       "      <td>0</td>\n",
       "      <td>1</td>\n",
       "      <td>0</td>\n",
       "    </tr>\n",
       "    <tr>\n",
       "      <th>2</th>\n",
       "      <td>1</td>\n",
       "      <td>0</td>\n",
       "      <td>1</td>\n",
       "      <td>0</td>\n",
       "      <td>3</td>\n",
       "      <td>1</td>\n",
       "      <td>1</td>\n",
       "      <td>8.050924</td>\n",
       "      <td>9.47025</td>\n",
       "      <td>43.7273</td>\n",
       "      <td>...</td>\n",
       "      <td>0</td>\n",
       "      <td>0</td>\n",
       "      <td>0</td>\n",
       "      <td>0</td>\n",
       "      <td>1</td>\n",
       "      <td>0</td>\n",
       "      <td>0</td>\n",
       "      <td>0</td>\n",
       "      <td>0</td>\n",
       "      <td>0</td>\n",
       "    </tr>\n",
       "    <tr>\n",
       "      <th>3</th>\n",
       "      <td>1</td>\n",
       "      <td>0</td>\n",
       "      <td>1</td>\n",
       "      <td>0</td>\n",
       "      <td>4</td>\n",
       "      <td>1</td>\n",
       "      <td>1</td>\n",
       "      <td>8.200000</td>\n",
       "      <td>10.60610</td>\n",
       "      <td>59.0435</td>\n",
       "      <td>...</td>\n",
       "      <td>0</td>\n",
       "      <td>0</td>\n",
       "      <td>0</td>\n",
       "      <td>0</td>\n",
       "      <td>0</td>\n",
       "      <td>1</td>\n",
       "      <td>0</td>\n",
       "      <td>0</td>\n",
       "      <td>0</td>\n",
       "      <td>0</td>\n",
       "    </tr>\n",
       "    <tr>\n",
       "      <th>4</th>\n",
       "      <td>1</td>\n",
       "      <td>0</td>\n",
       "      <td>1</td>\n",
       "      <td>0</td>\n",
       "      <td>5</td>\n",
       "      <td>1</td>\n",
       "      <td>1</td>\n",
       "      <td>9.305237</td>\n",
       "      <td>11.46350</td>\n",
       "      <td>43.6957</td>\n",
       "      <td>...</td>\n",
       "      <td>0</td>\n",
       "      <td>0</td>\n",
       "      <td>0</td>\n",
       "      <td>0</td>\n",
       "      <td>0</td>\n",
       "      <td>0</td>\n",
       "      <td>1</td>\n",
       "      <td>0</td>\n",
       "      <td>0</td>\n",
       "      <td>0</td>\n",
       "    </tr>\n",
       "  </tbody>\n",
       "</table>\n",
       "<p>5 rows × 34 columns</p>\n",
       "</div>"
      ],
      "text/plain": [
       "  season  yr mnth  holiday weekday  workingday weathersit       temp  \\\n",
       "0      1   0    1        0       1           1          2  14.110847   \n",
       "1      1   0    1        0       2           1          2  14.902598   \n",
       "2      1   0    1        0       3           1          1   8.050924   \n",
       "3      1   0    1        0       4           1          1   8.200000   \n",
       "4      1   0    1        0       5           1          1   9.305237   \n",
       "\n",
       "      atemp      hum      ...       mnth_11  mnth_12  weekday_1  weekday_2  \\\n",
       "0  18.18125  80.5833      ...             0        0          1          0   \n",
       "1  17.68695  69.6087      ...             0        0          0          1   \n",
       "2   9.47025  43.7273      ...             0        0          0          0   \n",
       "3  10.60610  59.0435      ...             0        0          0          0   \n",
       "4  11.46350  43.6957      ...             0        0          0          0   \n",
       "\n",
       "   weekday_3  weekday_4  weekday_5  weekday_6  weathersit_2  weathersit_3  \n",
       "0          0          0          0          0             1             0  \n",
       "1          0          0          0          0             1             0  \n",
       "2          1          0          0          0             0             0  \n",
       "3          0          1          0          0             0             0  \n",
       "4          0          0          1          0             0             0  \n",
       "\n",
       "[5 rows x 34 columns]"
      ]
     },
     "execution_count": 131,
     "metadata": {},
     "output_type": "execute_result"
    }
   ],
   "source": [
    "##Applying one-hot encoding now\n",
    "\n",
    "to_convert=['season', 'mnth', 'weekday','weathersit']\n",
    "status = pd.get_dummies(bike_sharing[to_convert], drop_first = True)\n",
    "\n",
    "bike_sharing = pd.concat([bike_sharing, status], axis = 1)\n",
    "\n",
    "# Now let's see the head of our dataframe.\n",
    "bike_sharing.head()"
   ]
  },
  {
   "cell_type": "code",
   "execution_count": 132,
   "metadata": {
    "colab": {
     "base_uri": "https://localhost:8080/"
    },
    "id": "uOLR_jwihgRZ",
    "outputId": "ed533506-efde-4b4d-82e1-827b17a0d090"
   },
   "outputs": [
    {
     "name": "stdout",
     "output_type": "stream",
     "text": [
      "Number of samples and features after encoding are 730 , 34 respectively\n"
     ]
    }
   ],
   "source": [
    "print('Number of samples and features after encoding are',bike_sharing.shape[0],',',bike_sharing.shape[1],'respectively')"
   ]
  },
  {
   "cell_type": "code",
   "execution_count": 133,
   "metadata": {
    "id": "Sx2zBgbdGPxw"
   },
   "outputs": [],
   "source": [
    "##Removing extra categorical columns\n",
    "bike_sharing.drop(to_convert,inplace=True,axis=1)"
   ]
  },
  {
   "cell_type": "markdown",
   "metadata": {
    "id": "aXrO_C3JieAb"
   },
   "source": [
    "# Let us do some plotting to find how well the dependant and independant variables are related after the train-test split"
   ]
  },
  {
   "cell_type": "code",
   "execution_count": 134,
   "metadata": {
    "id": "wYxCf79JhgZQ"
   },
   "outputs": [],
   "source": [
    "from sklearn.model_selection import train_test_split\n",
    "\n",
    "# We specify this so that the train and test data set always have the same rows, respectively\n",
    "np.random.seed(0)\n",
    "df_train, df_test = train_test_split(bike_sharing, train_size = 0.7, test_size = 0.3, random_state = 42)"
   ]
  },
  {
   "cell_type": "code",
   "execution_count": 135,
   "metadata": {
    "colab": {
     "base_uri": "https://localhost:8080/"
    },
    "id": "Kj3dxYgwkIJJ",
    "outputId": "4f89ae55-a2f5-495a-8570-21e32895a457"
   },
   "outputs": [
    {
     "name": "stdout",
     "output_type": "stream",
     "text": [
      "<class 'pandas.core.frame.DataFrame'>\n",
      "Int64Index: 510 entries, 683 to 435\n",
      "Data columns (total 30 columns):\n",
      "yr              510 non-null int64\n",
      "holiday         510 non-null int64\n",
      "workingday      510 non-null int64\n",
      "temp            510 non-null float64\n",
      "atemp           510 non-null float64\n",
      "hum             510 non-null float64\n",
      "windspeed       510 non-null float64\n",
      "cnt             510 non-null int64\n",
      "season_2        510 non-null uint8\n",
      "season_3        510 non-null uint8\n",
      "season_4        510 non-null uint8\n",
      "mnth_2          510 non-null uint8\n",
      "mnth_3          510 non-null uint8\n",
      "mnth_4          510 non-null uint8\n",
      "mnth_5          510 non-null uint8\n",
      "mnth_6          510 non-null uint8\n",
      "mnth_7          510 non-null uint8\n",
      "mnth_8          510 non-null uint8\n",
      "mnth_9          510 non-null uint8\n",
      "mnth_10         510 non-null uint8\n",
      "mnth_11         510 non-null uint8\n",
      "mnth_12         510 non-null uint8\n",
      "weekday_1       510 non-null uint8\n",
      "weekday_2       510 non-null uint8\n",
      "weekday_3       510 non-null uint8\n",
      "weekday_4       510 non-null uint8\n",
      "weekday_5       510 non-null uint8\n",
      "weekday_6       510 non-null uint8\n",
      "weathersit_2    510 non-null uint8\n",
      "weathersit_3    510 non-null uint8\n",
      "dtypes: float64(4), int64(4), uint8(22)\n",
      "memory usage: 46.8 KB\n"
     ]
    }
   ],
   "source": [
    "df_train.info()"
   ]
  },
  {
   "cell_type": "code",
   "execution_count": 136,
   "metadata": {
    "id": "A_BS6sEkEzOG"
   },
   "outputs": [],
   "source": [
    "##We shall rescale the numeric features---temp,atemp,hum,windspeed,cnt\n",
    "from sklearn.preprocessing import MinMaxScaler\n",
    "scaler = MinMaxScaler()"
   ]
  },
  {
   "cell_type": "code",
   "execution_count": 137,
   "metadata": {
    "colab": {
     "base_uri": "https://localhost:8080/",
     "height": 226
    },
    "id": "09TpzwKRp10V",
    "outputId": "5f03d944-f75e-4c87-bcab-4d9f71851312"
   },
   "outputs": [
    {
     "data": {
      "text/html": [
       "<div>\n",
       "<style scoped>\n",
       "    .dataframe tbody tr th:only-of-type {\n",
       "        vertical-align: middle;\n",
       "    }\n",
       "\n",
       "    .dataframe tbody tr th {\n",
       "        vertical-align: top;\n",
       "    }\n",
       "\n",
       "    .dataframe thead th {\n",
       "        text-align: right;\n",
       "    }\n",
       "</style>\n",
       "<table border=\"1\" class=\"dataframe\">\n",
       "  <thead>\n",
       "    <tr style=\"text-align: right;\">\n",
       "      <th></th>\n",
       "      <th>yr</th>\n",
       "      <th>holiday</th>\n",
       "      <th>workingday</th>\n",
       "      <th>temp</th>\n",
       "      <th>atemp</th>\n",
       "      <th>hum</th>\n",
       "      <th>windspeed</th>\n",
       "      <th>cnt</th>\n",
       "      <th>season_2</th>\n",
       "      <th>season_3</th>\n",
       "      <th>...</th>\n",
       "      <th>mnth_11</th>\n",
       "      <th>mnth_12</th>\n",
       "      <th>weekday_1</th>\n",
       "      <th>weekday_2</th>\n",
       "      <th>weekday_3</th>\n",
       "      <th>weekday_4</th>\n",
       "      <th>weekday_5</th>\n",
       "      <th>weekday_6</th>\n",
       "      <th>weathersit_2</th>\n",
       "      <th>weathersit_3</th>\n",
       "    </tr>\n",
       "  </thead>\n",
       "  <tbody>\n",
       "    <tr>\n",
       "      <th>683</th>\n",
       "      <td>1</td>\n",
       "      <td>0</td>\n",
       "      <td>1</td>\n",
       "      <td>0.327133</td>\n",
       "      <td>0.322150</td>\n",
       "      <td>0.639330</td>\n",
       "      <td>0.327101</td>\n",
       "      <td>0.605336</td>\n",
       "      <td>0</td>\n",
       "      <td>0</td>\n",
       "      <td>...</td>\n",
       "      <td>1</td>\n",
       "      <td>0</td>\n",
       "      <td>0</td>\n",
       "      <td>0</td>\n",
       "      <td>0</td>\n",
       "      <td>0</td>\n",
       "      <td>1</td>\n",
       "      <td>0</td>\n",
       "      <td>1</td>\n",
       "      <td>0</td>\n",
       "    </tr>\n",
       "    <tr>\n",
       "      <th>645</th>\n",
       "      <td>1</td>\n",
       "      <td>1</td>\n",
       "      <td>0</td>\n",
       "      <td>0.403972</td>\n",
       "      <td>0.404998</td>\n",
       "      <td>0.731215</td>\n",
       "      <td>0.419004</td>\n",
       "      <td>0.609320</td>\n",
       "      <td>0</td>\n",
       "      <td>0</td>\n",
       "      <td>...</td>\n",
       "      <td>0</td>\n",
       "      <td>0</td>\n",
       "      <td>0</td>\n",
       "      <td>1</td>\n",
       "      <td>0</td>\n",
       "      <td>0</td>\n",
       "      <td>0</td>\n",
       "      <td>0</td>\n",
       "      <td>1</td>\n",
       "      <td>0</td>\n",
       "    </tr>\n",
       "    <tr>\n",
       "      <th>163</th>\n",
       "      <td>0</td>\n",
       "      <td>0</td>\n",
       "      <td>1</td>\n",
       "      <td>0.717562</td>\n",
       "      <td>0.685963</td>\n",
       "      <td>0.509660</td>\n",
       "      <td>0.708724</td>\n",
       "      <td>0.554026</td>\n",
       "      <td>1</td>\n",
       "      <td>0</td>\n",
       "      <td>...</td>\n",
       "      <td>0</td>\n",
       "      <td>0</td>\n",
       "      <td>0</td>\n",
       "      <td>0</td>\n",
       "      <td>1</td>\n",
       "      <td>0</td>\n",
       "      <td>0</td>\n",
       "      <td>0</td>\n",
       "      <td>0</td>\n",
       "      <td>0</td>\n",
       "    </tr>\n",
       "    <tr>\n",
       "      <th>360</th>\n",
       "      <td>0</td>\n",
       "      <td>0</td>\n",
       "      <td>1</td>\n",
       "      <td>0.331287</td>\n",
       "      <td>0.326273</td>\n",
       "      <td>0.785745</td>\n",
       "      <td>0.415925</td>\n",
       "      <td>0.088253</td>\n",
       "      <td>0</td>\n",
       "      <td>0</td>\n",
       "      <td>...</td>\n",
       "      <td>0</td>\n",
       "      <td>1</td>\n",
       "      <td>0</td>\n",
       "      <td>0</td>\n",
       "      <td>0</td>\n",
       "      <td>1</td>\n",
       "      <td>0</td>\n",
       "      <td>0</td>\n",
       "      <td>1</td>\n",
       "      <td>0</td>\n",
       "    </tr>\n",
       "    <tr>\n",
       "      <th>640</th>\n",
       "      <td>1</td>\n",
       "      <td>0</td>\n",
       "      <td>1</td>\n",
       "      <td>0.745598</td>\n",
       "      <td>0.682653</td>\n",
       "      <td>0.817947</td>\n",
       "      <td>0.110593</td>\n",
       "      <td>0.862127</td>\n",
       "      <td>0</td>\n",
       "      <td>0</td>\n",
       "      <td>...</td>\n",
       "      <td>0</td>\n",
       "      <td>0</td>\n",
       "      <td>0</td>\n",
       "      <td>0</td>\n",
       "      <td>0</td>\n",
       "      <td>1</td>\n",
       "      <td>0</td>\n",
       "      <td>0</td>\n",
       "      <td>1</td>\n",
       "      <td>0</td>\n",
       "    </tr>\n",
       "  </tbody>\n",
       "</table>\n",
       "<p>5 rows × 30 columns</p>\n",
       "</div>"
      ],
      "text/plain": [
       "     yr  holiday  workingday      temp     atemp       hum  windspeed  \\\n",
       "683   1        0           1  0.327133  0.322150  0.639330   0.327101   \n",
       "645   1        1           0  0.403972  0.404998  0.731215   0.419004   \n",
       "163   0        0           1  0.717562  0.685963  0.509660   0.708724   \n",
       "360   0        0           1  0.331287  0.326273  0.785745   0.415925   \n",
       "640   1        0           1  0.745598  0.682653  0.817947   0.110593   \n",
       "\n",
       "          cnt  season_2  season_3      ...       mnth_11  mnth_12  weekday_1  \\\n",
       "683  0.605336         0         0      ...             1        0          0   \n",
       "645  0.609320         0         0      ...             0        0          0   \n",
       "163  0.554026         1         0      ...             0        0          0   \n",
       "360  0.088253         0         0      ...             0        1          0   \n",
       "640  0.862127         0         0      ...             0        0          0   \n",
       "\n",
       "     weekday_2  weekday_3  weekday_4  weekday_5  weekday_6  weathersit_2  \\\n",
       "683          0          0          0          1          0             1   \n",
       "645          1          0          0          0          0             1   \n",
       "163          0          1          0          0          0             0   \n",
       "360          0          0          1          0          0             1   \n",
       "640          0          0          1          0          0             1   \n",
       "\n",
       "     weathersit_3  \n",
       "683             0  \n",
       "645             0  \n",
       "163             0  \n",
       "360             0  \n",
       "640             0  \n",
       "\n",
       "[5 rows x 30 columns]"
      ]
     },
     "execution_count": 137,
     "metadata": {},
     "output_type": "execute_result"
    }
   ],
   "source": [
    "\n",
    "num_vars = ['temp','atemp','hum','windspeed','cnt']\n",
    "\n",
    "df_train[num_vars] = scaler.fit_transform(df_train[num_vars])\n",
    "\n",
    "df_train.head()"
   ]
  },
  {
   "cell_type": "code",
   "execution_count": 138,
   "metadata": {
    "colab": {
     "base_uri": "https://localhost:8080/",
     "height": 300
    },
    "id": "KvE9yF5Kp154",
    "outputId": "005f84cf-c44c-4367-c3f4-fb48e1c79a5c"
   },
   "outputs": [
    {
     "data": {
      "text/html": [
       "<div>\n",
       "<style scoped>\n",
       "    .dataframe tbody tr th:only-of-type {\n",
       "        vertical-align: middle;\n",
       "    }\n",
       "\n",
       "    .dataframe tbody tr th {\n",
       "        vertical-align: top;\n",
       "    }\n",
       "\n",
       "    .dataframe thead th {\n",
       "        text-align: right;\n",
       "    }\n",
       "</style>\n",
       "<table border=\"1\" class=\"dataframe\">\n",
       "  <thead>\n",
       "    <tr style=\"text-align: right;\">\n",
       "      <th></th>\n",
       "      <th>temp</th>\n",
       "      <th>atemp</th>\n",
       "      <th>hum</th>\n",
       "      <th>windspeed</th>\n",
       "      <th>cnt</th>\n",
       "    </tr>\n",
       "  </thead>\n",
       "  <tbody>\n",
       "    <tr>\n",
       "      <th>count</th>\n",
       "      <td>510.000000</td>\n",
       "      <td>510.000000</td>\n",
       "      <td>510.000000</td>\n",
       "      <td>510.000000</td>\n",
       "      <td>510.000000</td>\n",
       "    </tr>\n",
       "    <tr>\n",
       "      <th>mean</th>\n",
       "      <td>0.551091</td>\n",
       "      <td>0.526680</td>\n",
       "      <td>0.653801</td>\n",
       "      <td>0.414566</td>\n",
       "      <td>0.498206</td>\n",
       "    </tr>\n",
       "    <tr>\n",
       "      <th>std</th>\n",
       "      <td>0.227401</td>\n",
       "      <td>0.213153</td>\n",
       "      <td>0.143542</td>\n",
       "      <td>0.185671</td>\n",
       "      <td>0.233905</td>\n",
       "    </tr>\n",
       "    <tr>\n",
       "      <th>min</th>\n",
       "      <td>0.000000</td>\n",
       "      <td>0.000000</td>\n",
       "      <td>0.000000</td>\n",
       "      <td>0.000000</td>\n",
       "      <td>0.000000</td>\n",
       "    </tr>\n",
       "    <tr>\n",
       "      <th>25%</th>\n",
       "      <td>0.354176</td>\n",
       "      <td>0.352585</td>\n",
       "      <td>0.544033</td>\n",
       "      <td>0.281934</td>\n",
       "      <td>0.345950</td>\n",
       "    </tr>\n",
       "    <tr>\n",
       "      <th>50%</th>\n",
       "      <td>0.575824</td>\n",
       "      <td>0.564951</td>\n",
       "      <td>0.659296</td>\n",
       "      <td>0.383964</td>\n",
       "      <td>0.502233</td>\n",
       "    </tr>\n",
       "    <tr>\n",
       "      <th>75%</th>\n",
       "      <td>0.745338</td>\n",
       "      <td>0.698389</td>\n",
       "      <td>0.756762</td>\n",
       "      <td>0.525698</td>\n",
       "      <td>0.677080</td>\n",
       "    </tr>\n",
       "    <tr>\n",
       "      <th>max</th>\n",
       "      <td>1.000000</td>\n",
       "      <td>1.000000</td>\n",
       "      <td>1.000000</td>\n",
       "      <td>1.000000</td>\n",
       "      <td>1.000000</td>\n",
       "    </tr>\n",
       "  </tbody>\n",
       "</table>\n",
       "</div>"
      ],
      "text/plain": [
       "             temp       atemp         hum   windspeed         cnt\n",
       "count  510.000000  510.000000  510.000000  510.000000  510.000000\n",
       "mean     0.551091    0.526680    0.653801    0.414566    0.498206\n",
       "std      0.227401    0.213153    0.143542    0.185671    0.233905\n",
       "min      0.000000    0.000000    0.000000    0.000000    0.000000\n",
       "25%      0.354176    0.352585    0.544033    0.281934    0.345950\n",
       "50%      0.575824    0.564951    0.659296    0.383964    0.502233\n",
       "75%      0.745338    0.698389    0.756762    0.525698    0.677080\n",
       "max      1.000000    1.000000    1.000000    1.000000    1.000000"
      ]
     },
     "execution_count": 138,
     "metadata": {},
     "output_type": "execute_result"
    }
   ],
   "source": [
    "##Analysing the statistical factors after re-scaling\n",
    "\n",
    "df_train[num_vars].describe()"
   ]
  },
  {
   "cell_type": "markdown",
   "metadata": {
    "id": "2TTSu-fLjsW-"
   },
   "source": [
    "# Defining the target variable as y_train and other predictors into X_trian"
   ]
  },
  {
   "cell_type": "code",
   "execution_count": 139,
   "metadata": {
    "id": "d3kLhYVrwB9e"
   },
   "outputs": [],
   "source": [
    "y_train=df_train.pop('cnt')\n",
    "X_train=df_train"
   ]
  },
  {
   "cell_type": "markdown",
   "metadata": {
    "id": "mCHXNm0Aj6JF"
   },
   "source": [
    "# Building model steps:\n",
    "\n",
    "1.Using RFE finding the supportive predictor variables which can be used for further analysis\n",
    "\n",
    "2.Using stats model we are going to predict the relation of dependant variables with respect to these predictors.\n",
    "\n",
    "3.We shall drop either the high insignificant p-vaues or the one which gives more VIF >5 step by step and repeat the step 2 until we have all predictor variables to be significant provided they are not multicollinear to each other.\n",
    "\n",
    "4.Finally we shall build a predictive model on the train and extend the same to the test dataset and measure R2 and adjusted R2 as the efficiency metrics\n",
    "\n"
   ]
  },
  {
   "cell_type": "code",
   "execution_count": 140,
   "metadata": {
    "id": "lWulNRADknkV"
   },
   "outputs": [],
   "source": [
    "# Importing RFE and LinearRegression\n",
    "from sklearn.feature_selection import RFE\n",
    "from sklearn.linear_model import LinearRegression"
   ]
  },
  {
   "cell_type": "code",
   "execution_count": 141,
   "metadata": {
    "id": "Ne6NKd8nknym"
   },
   "outputs": [],
   "source": [
    "# Running RFE with the output number of the variable equal to 10\n",
    "lm = LinearRegression()\n",
    "lm.fit(X_train, y_train)\n",
    "\n",
    "rfe = RFE(lm, 15)             # running RFE\n",
    "rfe = rfe.fit(X_train, y_train)"
   ]
  },
  {
   "cell_type": "code",
   "execution_count": 142,
   "metadata": {
    "colab": {
     "base_uri": "https://localhost:8080/"
    },
    "id": "G6PtUgrfkn1R",
    "outputId": "827a545c-2ecb-4e8b-c321-91ee4ea1ba34"
   },
   "outputs": [
    {
     "data": {
      "text/plain": [
       "[('yr', True, 1),\n",
       " ('holiday', True, 1),\n",
       " ('workingday', False, 10),\n",
       " ('temp', True, 1),\n",
       " ('atemp', True, 1),\n",
       " ('hum', True, 1),\n",
       " ('windspeed', True, 1),\n",
       " ('season_2', True, 1),\n",
       " ('season_3', True, 1),\n",
       " ('season_4', True, 1),\n",
       " ('mnth_2', False, 8),\n",
       " ('mnth_3', False, 2),\n",
       " ('mnth_4', False, 15),\n",
       " ('mnth_5', False, 4),\n",
       " ('mnth_6', False, 9),\n",
       " ('mnth_7', True, 1),\n",
       " ('mnth_8', False, 12),\n",
       " ('mnth_9', True, 1),\n",
       " ('mnth_10', False, 3),\n",
       " ('mnth_11', True, 1),\n",
       " ('mnth_12', True, 1),\n",
       " ('weekday_1', False, 5),\n",
       " ('weekday_2', False, 7),\n",
       " ('weekday_3', False, 6),\n",
       " ('weekday_4', False, 13),\n",
       " ('weekday_5', False, 14),\n",
       " ('weekday_6', False, 11),\n",
       " ('weathersit_2', True, 1),\n",
       " ('weathersit_3', True, 1)]"
      ]
     },
     "execution_count": 142,
     "metadata": {},
     "output_type": "execute_result"
    }
   ],
   "source": [
    "list(zip(X_train.columns,rfe.support_,rfe.ranking_))"
   ]
  },
  {
   "cell_type": "code",
   "execution_count": 143,
   "metadata": {
    "colab": {
     "base_uri": "https://localhost:8080/"
    },
    "id": "yb9jDZVpkn3c",
    "outputId": "956a9fba-6b00-4e93-bd9e-7673a2bbc92a"
   },
   "outputs": [
    {
     "data": {
      "text/plain": [
       "Index(['yr', 'holiday', 'temp', 'atemp', 'hum', 'windspeed', 'season_2',\n",
       "       'season_3', 'season_4', 'mnth_7', 'mnth_9', 'mnth_11', 'mnth_12',\n",
       "       'weathersit_2', 'weathersit_3'],\n",
       "      dtype='object')"
      ]
     },
     "execution_count": 143,
     "metadata": {},
     "output_type": "execute_result"
    }
   ],
   "source": [
    "## Taking only the rfe support columns\n",
    "col = X_train.columns[rfe.support_]\n",
    "col"
   ]
  },
  {
   "cell_type": "markdown",
   "metadata": {
    "id": "6qU9ClSklMVm"
   },
   "source": [
    "# Building the statistical models with these predictor variables with respect to target variable"
   ]
  },
  {
   "cell_type": "code",
   "execution_count": 144,
   "metadata": {
    "id": "rTWMhnhCkn5X"
   },
   "outputs": [],
   "source": [
    "# Creating X_test dataframe with RFE selected variables\n",
    "X_train_rfe = X_train[col]"
   ]
  },
  {
   "cell_type": "code",
   "execution_count": 145,
   "metadata": {
    "id": "BHw4_VT7lKdp"
   },
   "outputs": [],
   "source": [
    "# Adding a constant variable \n",
    "import statsmodels.api as sm  \n",
    "X_train_mod_1 = sm.add_constant(X_train_rfe)"
   ]
  },
  {
   "cell_type": "code",
   "execution_count": 146,
   "metadata": {
    "id": "R7vpRay5lKin"
   },
   "outputs": [],
   "source": [
    "lm = sm.OLS(y_train,X_train_mod_1).fit()   # Running the linear model"
   ]
  },
  {
   "cell_type": "code",
   "execution_count": 147,
   "metadata": {
    "colab": {
     "base_uri": "https://localhost:8080/"
    },
    "id": "7c7Qo3jKlKl5",
    "outputId": "cdb99d7f-b511-46e9-c82a-d91df9dadb2a"
   },
   "outputs": [
    {
     "name": "stdout",
     "output_type": "stream",
     "text": [
      "                            OLS Regression Results                            \n",
      "==============================================================================\n",
      "Dep. Variable:                    cnt   R-squared:                       0.839\n",
      "Model:                            OLS   Adj. R-squared:                  0.834\n",
      "Method:                 Least Squares   F-statistic:                     171.3\n",
      "Date:                Mon, 06 Sep 2021   Prob (F-statistic):          1.17e-184\n",
      "Time:                        11:14:31   Log-Likelihood:                 483.15\n",
      "No. Observations:                 510   AIC:                            -934.3\n",
      "Df Residuals:                     494   BIC:                            -866.5\n",
      "Df Model:                          15                                         \n",
      "Covariance Type:            nonrobust                                         \n",
      "================================================================================\n",
      "                   coef    std err          t      P>|t|      [0.025      0.975]\n",
      "--------------------------------------------------------------------------------\n",
      "const            0.1884      0.031      6.043      0.000       0.127       0.250\n",
      "yr               0.2370      0.009     27.595      0.000       0.220       0.254\n",
      "holiday         -0.0752      0.026     -2.882      0.004      -0.126      -0.024\n",
      "temp             0.0898      0.252      0.356      0.722      -0.406       0.585\n",
      "atemp            0.3929      0.267      1.473      0.141      -0.131       0.917\n",
      "hum             -0.1724      0.040     -4.266      0.000      -0.252      -0.093\n",
      "windspeed       -0.1212      0.026     -4.656      0.000      -0.172      -0.070\n",
      "season_2         0.1530      0.017      8.999      0.000       0.120       0.186\n",
      "season_3         0.1258      0.023      5.408      0.000       0.080       0.172\n",
      "season_4         0.2316      0.017     13.536      0.000       0.198       0.265\n",
      "mnth_7          -0.0474      0.019     -2.500      0.013      -0.085      -0.010\n",
      "mnth_9           0.0662      0.017      3.802      0.000       0.032       0.100\n",
      "mnth_11         -0.0771      0.019     -3.957      0.000      -0.115      -0.039\n",
      "mnth_12         -0.0633      0.018     -3.451      0.001      -0.099      -0.027\n",
      "weathersit_2    -0.0550      0.011     -4.938      0.000      -0.077      -0.033\n",
      "weathersit_3    -0.2121      0.029     -7.411      0.000      -0.268      -0.156\n",
      "==============================================================================\n",
      "Omnibus:                       71.487   Durbin-Watson:                   2.025\n",
      "Prob(Omnibus):                  0.000   Jarque-Bera (JB):              151.748\n",
      "Skew:                          -0.773   Prob(JB):                     1.12e-33\n",
      "Kurtosis:                       5.180   Cond. No.                         147.\n",
      "==============================================================================\n",
      "\n",
      "Warnings:\n",
      "[1] Standard Errors assume that the covariance matrix of the errors is correctly specified.\n"
     ]
    }
   ],
   "source": [
    "#Let's see the summary of our linear model\n",
    "print(lm.summary())"
   ]
  },
  {
   "cell_type": "code",
   "execution_count": 148,
   "metadata": {
    "colab": {
     "base_uri": "https://localhost:8080/",
     "height": 519
    },
    "id": "KWuOWX0RlKoB",
    "outputId": "ef1f61da-ba0a-4073-bed0-1dfe6635083f"
   },
   "outputs": [
    {
     "data": {
      "text/html": [
       "<div>\n",
       "<style scoped>\n",
       "    .dataframe tbody tr th:only-of-type {\n",
       "        vertical-align: middle;\n",
       "    }\n",
       "\n",
       "    .dataframe tbody tr th {\n",
       "        vertical-align: top;\n",
       "    }\n",
       "\n",
       "    .dataframe thead th {\n",
       "        text-align: right;\n",
       "    }\n",
       "</style>\n",
       "<table border=\"1\" class=\"dataframe\">\n",
       "  <thead>\n",
       "    <tr style=\"text-align: right;\">\n",
       "      <th></th>\n",
       "      <th>Features</th>\n",
       "      <th>VIF</th>\n",
       "    </tr>\n",
       "  </thead>\n",
       "  <tbody>\n",
       "    <tr>\n",
       "      <th>3</th>\n",
       "      <td>atemp</td>\n",
       "      <td>1274.28</td>\n",
       "    </tr>\n",
       "    <tr>\n",
       "      <th>2</th>\n",
       "      <td>temp</td>\n",
       "      <td>1263.51</td>\n",
       "    </tr>\n",
       "    <tr>\n",
       "      <th>4</th>\n",
       "      <td>hum</td>\n",
       "      <td>17.75</td>\n",
       "    </tr>\n",
       "    <tr>\n",
       "      <th>7</th>\n",
       "      <td>season_3</td>\n",
       "      <td>7.82</td>\n",
       "    </tr>\n",
       "    <tr>\n",
       "      <th>5</th>\n",
       "      <td>windspeed</td>\n",
       "      <td>4.93</td>\n",
       "    </tr>\n",
       "    <tr>\n",
       "      <th>6</th>\n",
       "      <td>season_2</td>\n",
       "      <td>4.14</td>\n",
       "    </tr>\n",
       "    <tr>\n",
       "      <th>8</th>\n",
       "      <td>season_4</td>\n",
       "      <td>4.11</td>\n",
       "    </tr>\n",
       "    <tr>\n",
       "      <th>13</th>\n",
       "      <td>weathersit_2</td>\n",
       "      <td>2.13</td>\n",
       "    </tr>\n",
       "    <tr>\n",
       "      <th>0</th>\n",
       "      <td>yr</td>\n",
       "      <td>2.05</td>\n",
       "    </tr>\n",
       "    <tr>\n",
       "      <th>11</th>\n",
       "      <td>mnth_11</td>\n",
       "      <td>1.93</td>\n",
       "    </tr>\n",
       "    <tr>\n",
       "      <th>9</th>\n",
       "      <td>mnth_7</td>\n",
       "      <td>1.86</td>\n",
       "    </tr>\n",
       "    <tr>\n",
       "      <th>10</th>\n",
       "      <td>mnth_9</td>\n",
       "      <td>1.53</td>\n",
       "    </tr>\n",
       "    <tr>\n",
       "      <th>12</th>\n",
       "      <td>mnth_12</td>\n",
       "      <td>1.39</td>\n",
       "    </tr>\n",
       "    <tr>\n",
       "      <th>14</th>\n",
       "      <td>weathersit_3</td>\n",
       "      <td>1.25</td>\n",
       "    </tr>\n",
       "    <tr>\n",
       "      <th>1</th>\n",
       "      <td>holiday</td>\n",
       "      <td>1.05</td>\n",
       "    </tr>\n",
       "  </tbody>\n",
       "</table>\n",
       "</div>"
      ],
      "text/plain": [
       "        Features      VIF\n",
       "3          atemp  1274.28\n",
       "2           temp  1263.51\n",
       "4            hum    17.75\n",
       "7       season_3     7.82\n",
       "5      windspeed     4.93\n",
       "6       season_2     4.14\n",
       "8       season_4     4.11\n",
       "13  weathersit_2     2.13\n",
       "0             yr     2.05\n",
       "11       mnth_11     1.93\n",
       "9         mnth_7     1.86\n",
       "10        mnth_9     1.53\n",
       "12       mnth_12     1.39\n",
       "14  weathersit_3     1.25\n",
       "1        holiday     1.05"
      ]
     },
     "execution_count": 148,
     "metadata": {},
     "output_type": "execute_result"
    }
   ],
   "source": [
    "##Analysing multi-collinaerity\n",
    "# Calculate the VIFs for the new model\n",
    "from statsmodels.stats.outliers_influence import variance_inflation_factor\n",
    "\n",
    "vif = pd.DataFrame()\n",
    "X = X_train_rfe\n",
    "vif['Features'] = X.columns\n",
    "vif['VIF'] = [variance_inflation_factor(X.values, i) for i in range(X.shape[1])]\n",
    "vif['VIF'] = round(vif['VIF'], 2)\n",
    "vif = vif.sort_values(by = \"VIF\", ascending = False)\n",
    "vif\n"
   ]
  },
  {
   "cell_type": "markdown",
   "metadata": {
    "id": "Nb-TdmEuoelY"
   },
   "source": [
    "# We shall remove hum and atemp from the model because hum does not show any linear relation with the target and the latter atemp is highly correlated with temp"
   ]
  },
  {
   "cell_type": "code",
   "execution_count": 149,
   "metadata": {
    "colab": {
     "base_uri": "https://localhost:8080/",
     "height": 226
    },
    "id": "S6IoGFt5qTTF",
    "outputId": "a6f86800-f80b-4f50-8810-f53cd8ff9990"
   },
   "outputs": [
    {
     "data": {
      "text/html": [
       "<div>\n",
       "<style scoped>\n",
       "    .dataframe tbody tr th:only-of-type {\n",
       "        vertical-align: middle;\n",
       "    }\n",
       "\n",
       "    .dataframe tbody tr th {\n",
       "        vertical-align: top;\n",
       "    }\n",
       "\n",
       "    .dataframe thead th {\n",
       "        text-align: right;\n",
       "    }\n",
       "</style>\n",
       "<table border=\"1\" class=\"dataframe\">\n",
       "  <thead>\n",
       "    <tr style=\"text-align: right;\">\n",
       "      <th></th>\n",
       "      <th>yr</th>\n",
       "      <th>holiday</th>\n",
       "      <th>temp</th>\n",
       "      <th>atemp</th>\n",
       "      <th>hum</th>\n",
       "      <th>windspeed</th>\n",
       "      <th>season_2</th>\n",
       "      <th>season_3</th>\n",
       "      <th>season_4</th>\n",
       "      <th>mnth_7</th>\n",
       "      <th>mnth_9</th>\n",
       "      <th>mnth_11</th>\n",
       "      <th>mnth_12</th>\n",
       "      <th>weathersit_2</th>\n",
       "      <th>weathersit_3</th>\n",
       "    </tr>\n",
       "  </thead>\n",
       "  <tbody>\n",
       "    <tr>\n",
       "      <th>683</th>\n",
       "      <td>1</td>\n",
       "      <td>0</td>\n",
       "      <td>0.327133</td>\n",
       "      <td>0.322150</td>\n",
       "      <td>0.639330</td>\n",
       "      <td>0.327101</td>\n",
       "      <td>0</td>\n",
       "      <td>0</td>\n",
       "      <td>1</td>\n",
       "      <td>0</td>\n",
       "      <td>0</td>\n",
       "      <td>1</td>\n",
       "      <td>0</td>\n",
       "      <td>1</td>\n",
       "      <td>0</td>\n",
       "    </tr>\n",
       "    <tr>\n",
       "      <th>645</th>\n",
       "      <td>1</td>\n",
       "      <td>1</td>\n",
       "      <td>0.403972</td>\n",
       "      <td>0.404998</td>\n",
       "      <td>0.731215</td>\n",
       "      <td>0.419004</td>\n",
       "      <td>0</td>\n",
       "      <td>0</td>\n",
       "      <td>1</td>\n",
       "      <td>0</td>\n",
       "      <td>0</td>\n",
       "      <td>0</td>\n",
       "      <td>0</td>\n",
       "      <td>1</td>\n",
       "      <td>0</td>\n",
       "    </tr>\n",
       "    <tr>\n",
       "      <th>163</th>\n",
       "      <td>0</td>\n",
       "      <td>0</td>\n",
       "      <td>0.717562</td>\n",
       "      <td>0.685963</td>\n",
       "      <td>0.509660</td>\n",
       "      <td>0.708724</td>\n",
       "      <td>1</td>\n",
       "      <td>0</td>\n",
       "      <td>0</td>\n",
       "      <td>0</td>\n",
       "      <td>0</td>\n",
       "      <td>0</td>\n",
       "      <td>0</td>\n",
       "      <td>0</td>\n",
       "      <td>0</td>\n",
       "    </tr>\n",
       "    <tr>\n",
       "      <th>360</th>\n",
       "      <td>0</td>\n",
       "      <td>0</td>\n",
       "      <td>0.331287</td>\n",
       "      <td>0.326273</td>\n",
       "      <td>0.785745</td>\n",
       "      <td>0.415925</td>\n",
       "      <td>0</td>\n",
       "      <td>0</td>\n",
       "      <td>0</td>\n",
       "      <td>0</td>\n",
       "      <td>0</td>\n",
       "      <td>0</td>\n",
       "      <td>1</td>\n",
       "      <td>1</td>\n",
       "      <td>0</td>\n",
       "    </tr>\n",
       "    <tr>\n",
       "      <th>640</th>\n",
       "      <td>1</td>\n",
       "      <td>0</td>\n",
       "      <td>0.745598</td>\n",
       "      <td>0.682653</td>\n",
       "      <td>0.817947</td>\n",
       "      <td>0.110593</td>\n",
       "      <td>0</td>\n",
       "      <td>0</td>\n",
       "      <td>1</td>\n",
       "      <td>0</td>\n",
       "      <td>0</td>\n",
       "      <td>0</td>\n",
       "      <td>0</td>\n",
       "      <td>1</td>\n",
       "      <td>0</td>\n",
       "    </tr>\n",
       "  </tbody>\n",
       "</table>\n",
       "</div>"
      ],
      "text/plain": [
       "     yr  holiday      temp     atemp       hum  windspeed  season_2  season_3  \\\n",
       "683   1        0  0.327133  0.322150  0.639330   0.327101         0         0   \n",
       "645   1        1  0.403972  0.404998  0.731215   0.419004         0         0   \n",
       "163   0        0  0.717562  0.685963  0.509660   0.708724         1         0   \n",
       "360   0        0  0.331287  0.326273  0.785745   0.415925         0         0   \n",
       "640   1        0  0.745598  0.682653  0.817947   0.110593         0         0   \n",
       "\n",
       "     season_4  mnth_7  mnth_9  mnth_11  mnth_12  weathersit_2  weathersit_3  \n",
       "683         1       0       0        1        0             1             0  \n",
       "645         1       0       0        0        0             1             0  \n",
       "163         0       0       0        0        0             0             0  \n",
       "360         0       0       0        0        1             1             0  \n",
       "640         1       0       0        0        0             1             0  "
      ]
     },
     "execution_count": 149,
     "metadata": {},
     "output_type": "execute_result"
    }
   ],
   "source": [
    "X_train_rfe.head()"
   ]
  },
  {
   "cell_type": "code",
   "execution_count": 150,
   "metadata": {
    "id": "fqiTZ8G1lKsj"
   },
   "outputs": [],
   "source": [
    "X_train_rfe.drop(['atemp','hum'],axis=1,inplace=True)"
   ]
  },
  {
   "cell_type": "code",
   "execution_count": 151,
   "metadata": {
    "colab": {
     "base_uri": "https://localhost:8080/"
    },
    "id": "utFo3dLYpXcf",
    "outputId": "f0754cb9-b2b2-4adf-cf15-a1861bef244a"
   },
   "outputs": [
    {
     "name": "stdout",
     "output_type": "stream",
     "text": [
      "                            OLS Regression Results                            \n",
      "==============================================================================\n",
      "Dep. Variable:                    cnt   R-squared:                       0.832\n",
      "Model:                            OLS   Adj. R-squared:                  0.828\n",
      "Method:                 Least Squares   F-statistic:                     189.6\n",
      "Date:                Mon, 06 Sep 2021   Prob (F-statistic):          7.53e-183\n",
      "Time:                        11:14:31   Log-Likelihood:                 473.38\n",
      "No. Observations:                 510   AIC:                            -918.8\n",
      "Df Residuals:                     496   BIC:                            -859.5\n",
      "Df Model:                          13                                         \n",
      "Covariance Type:            nonrobust                                         \n",
      "================================================================================\n",
      "                   coef    std err          t      P>|t|      [0.025      0.975]\n",
      "--------------------------------------------------------------------------------\n",
      "const            0.0941      0.020      4.699      0.000       0.055       0.133\n",
      "yr               0.2420      0.009     27.978      0.000       0.225       0.259\n",
      "holiday         -0.0798      0.026     -3.016      0.003      -0.132      -0.028\n",
      "temp             0.4303      0.038     11.454      0.000       0.356       0.504\n",
      "windspeed       -0.1014      0.024     -4.161      0.000      -0.149      -0.053\n",
      "season_2         0.1580      0.017      9.168      0.000       0.124       0.192\n",
      "season_3         0.1277      0.024      5.415      0.000       0.081       0.174\n",
      "season_4         0.2310      0.017     13.327      0.000       0.197       0.265\n",
      "mnth_7          -0.0407      0.019     -2.121      0.034      -0.078      -0.003\n",
      "mnth_9           0.0588      0.018      3.334      0.001       0.024       0.093\n",
      "mnth_11         -0.0769      0.020     -3.880      0.000      -0.116      -0.038\n",
      "mnth_12         -0.0677      0.019     -3.643      0.000      -0.104      -0.031\n",
      "weathersit_2    -0.0826      0.009     -8.935      0.000      -0.101      -0.064\n",
      "weathersit_3    -0.2662      0.026    -10.130      0.000      -0.318      -0.215\n",
      "==============================================================================\n",
      "Omnibus:                       66.984   Durbin-Watson:                   2.058\n",
      "Prob(Omnibus):                  0.000   Jarque-Bera (JB):              143.980\n",
      "Skew:                          -0.724   Prob(JB):                     5.43e-32\n",
      "Kurtosis:                       5.163   Cond. No.                         16.4\n",
      "==============================================================================\n",
      "\n",
      "Warnings:\n",
      "[1] Standard Errors assume that the covariance matrix of the errors is correctly specified.\n"
     ]
    }
   ],
   "source": [
    "# Adding a constant variable \n",
    "import statsmodels.api as sm  \n",
    "X_train_mod_2 = sm.add_constant(X_train_rfe)\n",
    "lm = sm.OLS(y_train,X_train_mod_2).fit()   # Running the linear model\n",
    "#Let's see the summary of our linear model\n",
    "print(lm.summary())"
   ]
  },
  {
   "cell_type": "code",
   "execution_count": 152,
   "metadata": {
    "colab": {
     "base_uri": "https://localhost:8080/",
     "height": 457
    },
    "id": "f8gOQaiopXnW",
    "outputId": "2f06878d-7ab4-406b-eb5e-ca43dcf85fc8"
   },
   "outputs": [
    {
     "data": {
      "text/html": [
       "<div>\n",
       "<style scoped>\n",
       "    .dataframe tbody tr th:only-of-type {\n",
       "        vertical-align: middle;\n",
       "    }\n",
       "\n",
       "    .dataframe tbody tr th {\n",
       "        vertical-align: top;\n",
       "    }\n",
       "\n",
       "    .dataframe thead th {\n",
       "        text-align: right;\n",
       "    }\n",
       "</style>\n",
       "<table border=\"1\" class=\"dataframe\">\n",
       "  <thead>\n",
       "    <tr style=\"text-align: right;\">\n",
       "      <th></th>\n",
       "      <th>Features</th>\n",
       "      <th>VIF</th>\n",
       "    </tr>\n",
       "  </thead>\n",
       "  <tbody>\n",
       "    <tr>\n",
       "      <th>2</th>\n",
       "      <td>temp</td>\n",
       "      <td>16.31</td>\n",
       "    </tr>\n",
       "    <tr>\n",
       "      <th>5</th>\n",
       "      <td>season_3</td>\n",
       "      <td>7.39</td>\n",
       "    </tr>\n",
       "    <tr>\n",
       "      <th>6</th>\n",
       "      <td>season_4</td>\n",
       "      <td>4.08</td>\n",
       "    </tr>\n",
       "    <tr>\n",
       "      <th>3</th>\n",
       "      <td>windspeed</td>\n",
       "      <td>4.02</td>\n",
       "    </tr>\n",
       "    <tr>\n",
       "      <th>4</th>\n",
       "      <td>season_2</td>\n",
       "      <td>4.00</td>\n",
       "    </tr>\n",
       "    <tr>\n",
       "      <th>0</th>\n",
       "      <td>yr</td>\n",
       "      <td>2.05</td>\n",
       "    </tr>\n",
       "    <tr>\n",
       "      <th>9</th>\n",
       "      <td>mnth_11</td>\n",
       "      <td>1.88</td>\n",
       "    </tr>\n",
       "    <tr>\n",
       "      <th>7</th>\n",
       "      <td>mnth_7</td>\n",
       "      <td>1.83</td>\n",
       "    </tr>\n",
       "    <tr>\n",
       "      <th>11</th>\n",
       "      <td>weathersit_2</td>\n",
       "      <td>1.55</td>\n",
       "    </tr>\n",
       "    <tr>\n",
       "      <th>8</th>\n",
       "      <td>mnth_9</td>\n",
       "      <td>1.52</td>\n",
       "    </tr>\n",
       "    <tr>\n",
       "      <th>10</th>\n",
       "      <td>mnth_12</td>\n",
       "      <td>1.30</td>\n",
       "    </tr>\n",
       "    <tr>\n",
       "      <th>12</th>\n",
       "      <td>weathersit_3</td>\n",
       "      <td>1.10</td>\n",
       "    </tr>\n",
       "    <tr>\n",
       "      <th>1</th>\n",
       "      <td>holiday</td>\n",
       "      <td>1.03</td>\n",
       "    </tr>\n",
       "  </tbody>\n",
       "</table>\n",
       "</div>"
      ],
      "text/plain": [
       "        Features    VIF\n",
       "2           temp  16.31\n",
       "5       season_3   7.39\n",
       "6       season_4   4.08\n",
       "3      windspeed   4.02\n",
       "4       season_2   4.00\n",
       "0             yr   2.05\n",
       "9        mnth_11   1.88\n",
       "7         mnth_7   1.83\n",
       "11  weathersit_2   1.55\n",
       "8         mnth_9   1.52\n",
       "10       mnth_12   1.30\n",
       "12  weathersit_3   1.10\n",
       "1        holiday   1.03"
      ]
     },
     "execution_count": 152,
     "metadata": {},
     "output_type": "execute_result"
    }
   ],
   "source": [
    "##Analysing multi-collinaerity\n",
    "# Calculate the VIFs for the new model\n",
    "from statsmodels.stats.outliers_influence import variance_inflation_factor\n",
    "\n",
    "vif = pd.DataFrame()\n",
    "X = X_train_rfe\n",
    "vif['Features'] = X.columns\n",
    "vif['VIF'] = [variance_inflation_factor(X.values, i) for i in range(X.shape[1])]\n",
    "vif['VIF'] = round(vif['VIF'], 2)\n",
    "vif = vif.sort_values(by = \"VIF\", ascending = False)\n",
    "vif\n"
   ]
  },
  {
   "cell_type": "code",
   "execution_count": 153,
   "metadata": {
    "id": "NUvmAMMPNy_9"
   },
   "outputs": [],
   "source": [
    "X_train_rfe.drop(['season_3'],axis=1,inplace=True)"
   ]
  },
  {
   "cell_type": "code",
   "execution_count": 154,
   "metadata": {
    "colab": {
     "base_uri": "https://localhost:8080/",
     "height": 425
    },
    "id": "Oe0omfwvN6ok",
    "outputId": "365e6f9b-552f-47d7-f792-35b5bffbb4b5"
   },
   "outputs": [
    {
     "data": {
      "text/html": [
       "<div>\n",
       "<style scoped>\n",
       "    .dataframe tbody tr th:only-of-type {\n",
       "        vertical-align: middle;\n",
       "    }\n",
       "\n",
       "    .dataframe tbody tr th {\n",
       "        vertical-align: top;\n",
       "    }\n",
       "\n",
       "    .dataframe thead th {\n",
       "        text-align: right;\n",
       "    }\n",
       "</style>\n",
       "<table border=\"1\" class=\"dataframe\">\n",
       "  <thead>\n",
       "    <tr style=\"text-align: right;\">\n",
       "      <th></th>\n",
       "      <th>Features</th>\n",
       "      <th>VIF</th>\n",
       "    </tr>\n",
       "  </thead>\n",
       "  <tbody>\n",
       "    <tr>\n",
       "      <th>2</th>\n",
       "      <td>temp</td>\n",
       "      <td>6.12</td>\n",
       "    </tr>\n",
       "    <tr>\n",
       "      <th>3</th>\n",
       "      <td>windspeed</td>\n",
       "      <td>3.87</td>\n",
       "    </tr>\n",
       "    <tr>\n",
       "      <th>5</th>\n",
       "      <td>season_4</td>\n",
       "      <td>2.43</td>\n",
       "    </tr>\n",
       "    <tr>\n",
       "      <th>0</th>\n",
       "      <td>yr</td>\n",
       "      <td>2.03</td>\n",
       "    </tr>\n",
       "    <tr>\n",
       "      <th>4</th>\n",
       "      <td>season_2</td>\n",
       "      <td>1.99</td>\n",
       "    </tr>\n",
       "    <tr>\n",
       "      <th>8</th>\n",
       "      <td>mnth_11</td>\n",
       "      <td>1.79</td>\n",
       "    </tr>\n",
       "    <tr>\n",
       "      <th>6</th>\n",
       "      <td>mnth_7</td>\n",
       "      <td>1.71</td>\n",
       "    </tr>\n",
       "    <tr>\n",
       "      <th>10</th>\n",
       "      <td>weathersit_2</td>\n",
       "      <td>1.55</td>\n",
       "    </tr>\n",
       "    <tr>\n",
       "      <th>7</th>\n",
       "      <td>mnth_9</td>\n",
       "      <td>1.37</td>\n",
       "    </tr>\n",
       "    <tr>\n",
       "      <th>9</th>\n",
       "      <td>mnth_12</td>\n",
       "      <td>1.29</td>\n",
       "    </tr>\n",
       "    <tr>\n",
       "      <th>11</th>\n",
       "      <td>weathersit_3</td>\n",
       "      <td>1.10</td>\n",
       "    </tr>\n",
       "    <tr>\n",
       "      <th>1</th>\n",
       "      <td>holiday</td>\n",
       "      <td>1.03</td>\n",
       "    </tr>\n",
       "  </tbody>\n",
       "</table>\n",
       "</div>"
      ],
      "text/plain": [
       "        Features   VIF\n",
       "2           temp  6.12\n",
       "3      windspeed  3.87\n",
       "5       season_4  2.43\n",
       "0             yr  2.03\n",
       "4       season_2  1.99\n",
       "8        mnth_11  1.79\n",
       "6         mnth_7  1.71\n",
       "10  weathersit_2  1.55\n",
       "7         mnth_9  1.37\n",
       "9        mnth_12  1.29\n",
       "11  weathersit_3  1.10\n",
       "1        holiday  1.03"
      ]
     },
     "execution_count": 154,
     "metadata": {},
     "output_type": "execute_result"
    }
   ],
   "source": [
    "##Analysing multi-collinaerity\n",
    "# Calculate the VIFs for the new model\n",
    "from statsmodels.stats.outliers_influence import variance_inflation_factor\n",
    "\n",
    "vif = pd.DataFrame()\n",
    "X = X_train_rfe\n",
    "vif['Features'] = X.columns\n",
    "vif['VIF'] = [variance_inflation_factor(X.values, i) for i in range(X.shape[1])]\n",
    "vif['VIF'] = round(vif['VIF'], 2)\n",
    "vif = vif.sort_values(by = \"VIF\", ascending = False)\n",
    "vif"
   ]
  },
  {
   "cell_type": "markdown",
   "metadata": {
    "id": "JO2Y1VNUxrrN"
   },
   "source": [
    "# We could find that the temperature field is showing VIF>5 and also we could observe that the month_9 is having similar median and upper quartile range as that of month_7 with respect to targeted customers. We shall drop month_7"
   ]
  },
  {
   "cell_type": "code",
   "execution_count": 155,
   "metadata": {
    "id": "d7v47usLxqK8"
   },
   "outputs": [],
   "source": [
    "X_train_rfe.drop(['mnth_7'],axis=1,inplace=True)"
   ]
  },
  {
   "cell_type": "code",
   "execution_count": 156,
   "metadata": {
    "colab": {
     "base_uri": "https://localhost:8080/",
     "height": 394
    },
    "id": "UomSnXSLxqfb",
    "outputId": "cab25bec-c686-4434-9e90-cfc3bdd6acf1"
   },
   "outputs": [
    {
     "data": {
      "text/html": [
       "<div>\n",
       "<style scoped>\n",
       "    .dataframe tbody tr th:only-of-type {\n",
       "        vertical-align: middle;\n",
       "    }\n",
       "\n",
       "    .dataframe tbody tr th {\n",
       "        vertical-align: top;\n",
       "    }\n",
       "\n",
       "    .dataframe thead th {\n",
       "        text-align: right;\n",
       "    }\n",
       "</style>\n",
       "<table border=\"1\" class=\"dataframe\">\n",
       "  <thead>\n",
       "    <tr style=\"text-align: right;\">\n",
       "      <th></th>\n",
       "      <th>Features</th>\n",
       "      <th>VIF</th>\n",
       "    </tr>\n",
       "  </thead>\n",
       "  <tbody>\n",
       "    <tr>\n",
       "      <th>2</th>\n",
       "      <td>temp</td>\n",
       "      <td>4.12</td>\n",
       "    </tr>\n",
       "    <tr>\n",
       "      <th>3</th>\n",
       "      <td>windspeed</td>\n",
       "      <td>3.80</td>\n",
       "    </tr>\n",
       "    <tr>\n",
       "      <th>5</th>\n",
       "      <td>season_4</td>\n",
       "      <td>2.29</td>\n",
       "    </tr>\n",
       "    <tr>\n",
       "      <th>0</th>\n",
       "      <td>yr</td>\n",
       "      <td>2.03</td>\n",
       "    </tr>\n",
       "    <tr>\n",
       "      <th>7</th>\n",
       "      <td>mnth_11</td>\n",
       "      <td>1.79</td>\n",
       "    </tr>\n",
       "    <tr>\n",
       "      <th>4</th>\n",
       "      <td>season_2</td>\n",
       "      <td>1.66</td>\n",
       "    </tr>\n",
       "    <tr>\n",
       "      <th>9</th>\n",
       "      <td>weathersit_2</td>\n",
       "      <td>1.54</td>\n",
       "    </tr>\n",
       "    <tr>\n",
       "      <th>8</th>\n",
       "      <td>mnth_12</td>\n",
       "      <td>1.29</td>\n",
       "    </tr>\n",
       "    <tr>\n",
       "      <th>6</th>\n",
       "      <td>mnth_9</td>\n",
       "      <td>1.24</td>\n",
       "    </tr>\n",
       "    <tr>\n",
       "      <th>10</th>\n",
       "      <td>weathersit_3</td>\n",
       "      <td>1.10</td>\n",
       "    </tr>\n",
       "    <tr>\n",
       "      <th>1</th>\n",
       "      <td>holiday</td>\n",
       "      <td>1.03</td>\n",
       "    </tr>\n",
       "  </tbody>\n",
       "</table>\n",
       "</div>"
      ],
      "text/plain": [
       "        Features   VIF\n",
       "2           temp  4.12\n",
       "3      windspeed  3.80\n",
       "5       season_4  2.29\n",
       "0             yr  2.03\n",
       "7        mnth_11  1.79\n",
       "4       season_2  1.66\n",
       "9   weathersit_2  1.54\n",
       "8        mnth_12  1.29\n",
       "6         mnth_9  1.24\n",
       "10  weathersit_3  1.10\n",
       "1        holiday  1.03"
      ]
     },
     "execution_count": 156,
     "metadata": {},
     "output_type": "execute_result"
    }
   ],
   "source": [
    "##Analysing multi-collinaerity\n",
    "# Calculate the VIFs for the new model\n",
    "from statsmodels.stats.outliers_influence import variance_inflation_factor\n",
    "\n",
    "vif = pd.DataFrame()\n",
    "X = X_train_rfe\n",
    "vif['Features'] = X.columns\n",
    "vif['VIF'] = [variance_inflation_factor(X.values, i) for i in range(X.shape[1])]\n",
    "vif['VIF'] = round(vif['VIF'], 2)\n",
    "vif = vif.sort_values(by = \"VIF\", ascending = False)\n",
    "vif"
   ]
  },
  {
   "cell_type": "markdown",
   "metadata": {
    "id": "wNY3GIiCuYju"
   },
   "source": [
    "# In all these stages we never removed temperature as we could see from the pairplot that the temperature has srong association with the target variable"
   ]
  },
  {
   "cell_type": "code",
   "execution_count": 157,
   "metadata": {
    "colab": {
     "base_uri": "https://localhost:8080/"
    },
    "id": "zP6wk1cauG5v",
    "outputId": "ccb503ec-0f5a-452e-b613-cc2a4b79eb27"
   },
   "outputs": [
    {
     "name": "stdout",
     "output_type": "stream",
     "text": [
      "                            OLS Regression Results                            \n",
      "==============================================================================\n",
      "Dep. Variable:                    cnt   R-squared:                       0.822\n",
      "Model:                            OLS   Adj. R-squared:                  0.818\n",
      "Method:                 Least Squares   F-statistic:                     209.5\n",
      "Date:                Mon, 06 Sep 2021   Prob (F-statistic):          7.68e-179\n",
      "Time:                        11:14:31   Log-Likelihood:                 458.32\n",
      "No. Observations:                 510   AIC:                            -892.6\n",
      "Df Residuals:                     498   BIC:                            -841.8\n",
      "Df Model:                          11                                         \n",
      "Covariance Type:            nonrobust                                         \n",
      "================================================================================\n",
      "                   coef    std err          t      P>|t|      [0.025      0.975]\n",
      "--------------------------------------------------------------------------------\n",
      "const            0.0700      0.020      3.540      0.000       0.031       0.109\n",
      "yr               0.2400      0.009     27.021      0.000       0.223       0.257\n",
      "holiday         -0.0868      0.027     -3.194      0.001      -0.140      -0.033\n",
      "temp             0.5712      0.022     25.817      0.000       0.528       0.615\n",
      "windspeed       -0.0997      0.025     -3.984      0.000      -0.149      -0.051\n",
      "season_2         0.0951      0.011      8.472      0.000       0.073       0.117\n",
      "season_4         0.1749      0.014     12.895      0.000       0.148       0.202\n",
      "mnth_9           0.0929      0.016      5.666      0.000       0.061       0.125\n",
      "mnth_11         -0.0507      0.020     -2.574      0.010      -0.089      -0.012\n",
      "mnth_12         -0.0562      0.019     -2.961      0.003      -0.093      -0.019\n",
      "weathersit_2    -0.0817      0.009     -8.605      0.000      -0.100      -0.063\n",
      "weathersit_3    -0.2596      0.027     -9.633      0.000      -0.313      -0.207\n",
      "==============================================================================\n",
      "Omnibus:                       48.092   Durbin-Watson:                   2.066\n",
      "Prob(Omnibus):                  0.000   Jarque-Bera (JB):               81.068\n",
      "Skew:                          -0.616   Prob(JB):                     2.49e-18\n",
      "Kurtosis:                       4.516   Cond. No.                         10.7\n",
      "==============================================================================\n",
      "\n",
      "Warnings:\n",
      "[1] Standard Errors assume that the covariance matrix of the errors is correctly specified.\n"
     ]
    }
   ],
   "source": [
    "##We can keep the above parameters for the model\n",
    "\n",
    "import statsmodels.api as sm  \n",
    "X_train_mod_2 = sm.add_constant(X_train_rfe)\n",
    "lm = sm.OLS(y_train,X_train_mod_2).fit()   # Running the linear model\n",
    "#Let's see the summary of our linear model\n",
    "print(lm.summary())"
   ]
  },
  {
   "cell_type": "markdown",
   "metadata": {
    "id": "c-CKfau4l6y-"
   },
   "source": [
    "# We could now find that all the coefficients are significant and also no VIF is>5 . So this is our final model."
   ]
  },
  {
   "cell_type": "markdown",
   "metadata": {
    "id": "US6gZN9L0FT4"
   },
   "source": [
    "# Optional checking with the scikit learn model"
   ]
  },
  {
   "cell_type": "code",
   "execution_count": 158,
   "metadata": {
    "colab": {
     "base_uri": "https://localhost:8080/"
    },
    "id": "1ITaJ7tmuG_7",
    "outputId": "301318cb-4ecc-4fe4-85af-d55a797d9ddd"
   },
   "outputs": [
    {
     "data": {
      "text/plain": [
       "LinearRegression(copy_X=True, fit_intercept=True, n_jobs=1, normalize=False)"
      ]
     },
     "execution_count": 158,
     "metadata": {},
     "output_type": "execute_result"
    }
   ],
   "source": [
    "## Checking with the linear regression model\n",
    "\n",
    "from sklearn.linear_model import LinearRegression\n",
    "\n",
    "# Representing LinearRegression as lr(Creating LinearRegression Object)\n",
    "lm = LinearRegression()\n",
    "\n",
    "# Fit the model using lr.fit()\n",
    "lm.fit(X_train_rfe, y_train)\n"
   ]
  },
  {
   "cell_type": "code",
   "execution_count": 159,
   "metadata": {
    "colab": {
     "base_uri": "https://localhost:8080/"
    },
    "id": "JMyi2BuhuHG-",
    "outputId": "8c046989-1c67-4433-970c-ec750a18da27"
   },
   "outputs": [
    {
     "name": "stdout",
     "output_type": "stream",
     "text": [
      "0.06995065825423719\n",
      "[ 0.24002209 -0.08678818  0.57117798 -0.09972807  0.09514117  0.17491928\n",
      "  0.09290552 -0.05068878 -0.05615042 -0.08173214 -0.25962757]\n"
     ]
    }
   ],
   "source": [
    "print(lm.intercept_)\n",
    "print(lm.coef_)"
   ]
  },
  {
   "cell_type": "code",
   "execution_count": 160,
   "metadata": {
    "colab": {
     "base_uri": "https://localhost:8080/"
    },
    "id": "XwSlOSLExH5x",
    "outputId": "8b71af45-c48a-46b1-c24f-a74b36578fb7"
   },
   "outputs": [
    {
     "name": "stdout",
     "output_type": "stream",
     "text": [
      "Train R2 value from sci-kit learn for the given model is 0.8222860254307033\n",
      "Train Adjusted R2 value from sci-kit learn for the given model is 0.8183606163538715\n"
     ]
    }
   ],
   "source": [
    "#Calculating R2 value and adjusted R2 value\n",
    "\n",
    "from sklearn.metrics import r2_score\n",
    "y_pred_train=lm.predict(X_train_rfe)\n",
    "R2_value=r2_score(y_train,y_pred_train)\n",
    "print('Train R2 value from sci-kit learn for the given model is',R2_value)\n",
    "\n",
    "##Getting adjusted R2 value \n",
    "\n",
    "##R2= 1- [(1-R2)(N-1)/N-1-p]\n",
    "\n",
    "#N - Total sample size\n",
    "#P - Total predictors\n",
    "\n",
    "N=X_train_rfe.shape[0]\n",
    "p=X_train_rfe.shape[1]\n",
    "\n",
    "value=((1-R2_value)*(N-1))/(N-1-p)\n",
    "adjusted_R2_square=1-value\n",
    "\n",
    "print('Train Adjusted R2 value from sci-kit learn for the given model is',adjusted_R2_square)"
   ]
  },
  {
   "cell_type": "markdown",
   "metadata": {
    "id": "38M3xPgk3dYl"
   },
   "source": [
    "# Statistical test R2 square values and sci-kit learn R2 square values are similar . In statistical model it uses Ordinary Least Square method and in sci-kit learn it uses Gradient Descent for convergence so generally there might be a small variation in the R2 value from both models but not much deviation"
   ]
  },
  {
   "cell_type": "code",
   "execution_count": 161,
   "metadata": {
    "colab": {
     "base_uri": "https://localhost:8080/",
     "height": 226
    },
    "id": "hKZuRquk2bQW",
    "outputId": "54253fc1-89f8-401b-bf3d-b36c73e10cf1"
   },
   "outputs": [
    {
     "data": {
      "text/html": [
       "<div>\n",
       "<style scoped>\n",
       "    .dataframe tbody tr th:only-of-type {\n",
       "        vertical-align: middle;\n",
       "    }\n",
       "\n",
       "    .dataframe tbody tr th {\n",
       "        vertical-align: top;\n",
       "    }\n",
       "\n",
       "    .dataframe thead th {\n",
       "        text-align: right;\n",
       "    }\n",
       "</style>\n",
       "<table border=\"1\" class=\"dataframe\">\n",
       "  <thead>\n",
       "    <tr style=\"text-align: right;\">\n",
       "      <th></th>\n",
       "      <th>yr</th>\n",
       "      <th>holiday</th>\n",
       "      <th>workingday</th>\n",
       "      <th>temp</th>\n",
       "      <th>atemp</th>\n",
       "      <th>hum</th>\n",
       "      <th>windspeed</th>\n",
       "      <th>cnt</th>\n",
       "      <th>season_2</th>\n",
       "      <th>season_3</th>\n",
       "      <th>...</th>\n",
       "      <th>mnth_11</th>\n",
       "      <th>mnth_12</th>\n",
       "      <th>weekday_1</th>\n",
       "      <th>weekday_2</th>\n",
       "      <th>weekday_3</th>\n",
       "      <th>weekday_4</th>\n",
       "      <th>weekday_5</th>\n",
       "      <th>weekday_6</th>\n",
       "      <th>weathersit_2</th>\n",
       "      <th>weathersit_3</th>\n",
       "    </tr>\n",
       "  </thead>\n",
       "  <tbody>\n",
       "    <tr>\n",
       "      <th>468</th>\n",
       "      <td>1</td>\n",
       "      <td>0</td>\n",
       "      <td>0</td>\n",
       "      <td>20.295000</td>\n",
       "      <td>24.39980</td>\n",
       "      <td>50.2917</td>\n",
       "      <td>12.791439</td>\n",
       "      <td>7460</td>\n",
       "      <td>1</td>\n",
       "      <td>0</td>\n",
       "      <td>...</td>\n",
       "      <td>0</td>\n",
       "      <td>0</td>\n",
       "      <td>0</td>\n",
       "      <td>0</td>\n",
       "      <td>0</td>\n",
       "      <td>0</td>\n",
       "      <td>0</td>\n",
       "      <td>0</td>\n",
       "      <td>0</td>\n",
       "      <td>0</td>\n",
       "    </tr>\n",
       "    <tr>\n",
       "      <th>148</th>\n",
       "      <td>0</td>\n",
       "      <td>0</td>\n",
       "      <td>1</td>\n",
       "      <td>27.367500</td>\n",
       "      <td>30.77750</td>\n",
       "      <td>81.8750</td>\n",
       "      <td>14.333846</td>\n",
       "      <td>4788</td>\n",
       "      <td>1</td>\n",
       "      <td>0</td>\n",
       "      <td>...</td>\n",
       "      <td>0</td>\n",
       "      <td>0</td>\n",
       "      <td>0</td>\n",
       "      <td>1</td>\n",
       "      <td>0</td>\n",
       "      <td>0</td>\n",
       "      <td>0</td>\n",
       "      <td>0</td>\n",
       "      <td>0</td>\n",
       "      <td>0</td>\n",
       "    </tr>\n",
       "    <tr>\n",
       "      <th>302</th>\n",
       "      <td>0</td>\n",
       "      <td>0</td>\n",
       "      <td>1</td>\n",
       "      <td>13.085847</td>\n",
       "      <td>16.06645</td>\n",
       "      <td>62.3750</td>\n",
       "      <td>11.833339</td>\n",
       "      <td>3331</td>\n",
       "      <td>0</td>\n",
       "      <td>0</td>\n",
       "      <td>...</td>\n",
       "      <td>0</td>\n",
       "      <td>0</td>\n",
       "      <td>0</td>\n",
       "      <td>1</td>\n",
       "      <td>0</td>\n",
       "      <td>0</td>\n",
       "      <td>0</td>\n",
       "      <td>0</td>\n",
       "      <td>0</td>\n",
       "      <td>0</td>\n",
       "    </tr>\n",
       "    <tr>\n",
       "      <th>355</th>\n",
       "      <td>0</td>\n",
       "      <td>0</td>\n",
       "      <td>0</td>\n",
       "      <td>17.356653</td>\n",
       "      <td>21.30605</td>\n",
       "      <td>75.7500</td>\n",
       "      <td>3.167425</td>\n",
       "      <td>3068</td>\n",
       "      <td>0</td>\n",
       "      <td>0</td>\n",
       "      <td>...</td>\n",
       "      <td>0</td>\n",
       "      <td>1</td>\n",
       "      <td>0</td>\n",
       "      <td>0</td>\n",
       "      <td>0</td>\n",
       "      <td>0</td>\n",
       "      <td>0</td>\n",
       "      <td>1</td>\n",
       "      <td>1</td>\n",
       "      <td>0</td>\n",
       "    </tr>\n",
       "    <tr>\n",
       "      <th>515</th>\n",
       "      <td>1</td>\n",
       "      <td>0</td>\n",
       "      <td>1</td>\n",
       "      <td>27.880000</td>\n",
       "      <td>31.56645</td>\n",
       "      <td>49.2917</td>\n",
       "      <td>13.083693</td>\n",
       "      <td>7338</td>\n",
       "      <td>1</td>\n",
       "      <td>0</td>\n",
       "      <td>...</td>\n",
       "      <td>0</td>\n",
       "      <td>0</td>\n",
       "      <td>0</td>\n",
       "      <td>0</td>\n",
       "      <td>0</td>\n",
       "      <td>0</td>\n",
       "      <td>1</td>\n",
       "      <td>0</td>\n",
       "      <td>0</td>\n",
       "      <td>0</td>\n",
       "    </tr>\n",
       "  </tbody>\n",
       "</table>\n",
       "<p>5 rows × 30 columns</p>\n",
       "</div>"
      ],
      "text/plain": [
       "     yr  holiday  workingday       temp     atemp      hum  windspeed   cnt  \\\n",
       "468   1        0           0  20.295000  24.39980  50.2917  12.791439  7460   \n",
       "148   0        0           1  27.367500  30.77750  81.8750  14.333846  4788   \n",
       "302   0        0           1  13.085847  16.06645  62.3750  11.833339  3331   \n",
       "355   0        0           0  17.356653  21.30605  75.7500   3.167425  3068   \n",
       "515   1        0           1  27.880000  31.56645  49.2917  13.083693  7338   \n",
       "\n",
       "     season_2  season_3      ...       mnth_11  mnth_12  weekday_1  weekday_2  \\\n",
       "468         1         0      ...             0        0          0          0   \n",
       "148         1         0      ...             0        0          0          1   \n",
       "302         0         0      ...             0        0          0          1   \n",
       "355         0         0      ...             0        1          0          0   \n",
       "515         1         0      ...             0        0          0          0   \n",
       "\n",
       "     weekday_3  weekday_4  weekday_5  weekday_6  weathersit_2  weathersit_3  \n",
       "468          0          0          0          0             0             0  \n",
       "148          0          0          0          0             0             0  \n",
       "302          0          0          0          0             0             0  \n",
       "355          0          0          0          1             1             0  \n",
       "515          0          0          1          0             0             0  \n",
       "\n",
       "[5 rows x 30 columns]"
      ]
     },
     "execution_count": 161,
     "metadata": {},
     "output_type": "execute_result"
    }
   ],
   "source": [
    "##Let us proceed with the test data as training data learning seems promising\n",
    "\n",
    "df_test.head()"
   ]
  },
  {
   "cell_type": "code",
   "execution_count": 162,
   "metadata": {
    "id": "_2aHvn5a6_AR"
   },
   "outputs": [],
   "source": [
    "\n",
    "num_vars = ['temp','atemp','hum','windspeed','cnt']\n",
    "\n",
    "df_test[num_vars] = scaler.transform(df_test[num_vars])\n",
    "\n"
   ]
  },
  {
   "cell_type": "code",
   "execution_count": 163,
   "metadata": {
    "id": "S5fajZFp8See"
   },
   "outputs": [],
   "source": [
    "##Replicating the same technique as we follwed in training\n",
    "\n",
    "y_test=df_test.pop('cnt')\n",
    "X_test=df_test"
   ]
  },
  {
   "cell_type": "code",
   "execution_count": 164,
   "metadata": {
    "id": "sjKDBzJb8v_R"
   },
   "outputs": [],
   "source": [
    "X_test_rfe = X_test[X_train_rfe.columns]"
   ]
  },
  {
   "cell_type": "code",
   "execution_count": 165,
   "metadata": {
    "id": "BQtQL3nW8wCR"
   },
   "outputs": [],
   "source": [
    "# Adding a constant variable \n",
    "import statsmodels.api as sm  \n",
    "X_test_mod = sm.add_constant(X_test_rfe)\n",
    "lm = sm.OLS(y_test,X_test_mod).fit()   # Running the linear model\n",
    "#Let's see the summary of our linear model\n"
   ]
  },
  {
   "cell_type": "markdown",
   "metadata": {
    "id": "u3V4iF0rv9w7"
   },
   "source": [
    "# We could find that the test R2 values are also closer to training data's so our model performed good on test data ."
   ]
  },
  {
   "cell_type": "markdown",
   "metadata": {
    "id": "3u7znkXtwLO8"
   },
   "source": [
    "# Now as the final part we shall check using scikit learn and re-check if the assumption of linear regression is valid"
   ]
  },
  {
   "cell_type": "code",
   "execution_count": 166,
   "metadata": {
    "colab": {
     "base_uri": "https://localhost:8080/"
    },
    "id": "K2_OYwLVv8H2",
    "outputId": "cc55cafc-a915-4b84-98c6-fdfa73385c02"
   },
   "outputs": [
    {
     "data": {
      "text/plain": [
       "LinearRegression(copy_X=True, fit_intercept=True, n_jobs=1, normalize=False)"
      ]
     },
     "execution_count": 166,
     "metadata": {},
     "output_type": "execute_result"
    }
   ],
   "source": [
    "##Forming the regression eqution using the best fit line\n",
    "from sklearn.linear_model import LinearRegression\n",
    "\n",
    "# Representing LinearRegression as lr(Creating LinearRegression Object)\n",
    "lm = LinearRegression()\n",
    "\n",
    "# Fit the model using lr.fit()\n",
    "lm.fit(X_test_rfe, y_test)\n"
   ]
  },
  {
   "cell_type": "code",
   "execution_count": 167,
   "metadata": {
    "colab": {
     "base_uri": "https://localhost:8080/"
    },
    "id": "TtQSCkJrv8Ql",
    "outputId": "854f029f-4345-4aee-ecfd-2d739f345bb0"
   },
   "outputs": [
    {
     "name": "stdout",
     "output_type": "stream",
     "text": [
      "Test R2 value from sci-kit learn for the given model is 0.8389132717597231\n",
      "Test Adjusted R2 value from sci-kit learn for the given model is 0.8303531074570997\n"
     ]
    }
   ],
   "source": [
    "# Calculating R2 value and adjusted R2 value\n",
    "\n",
    "from sklearn.metrics import r2_score\n",
    "y_pred_test=lm.predict(X_test_rfe)\n",
    "R2_value=r2_score(y_test,y_pred_test)\n",
    "print('Test R2 value from sci-kit learn for the given model is',R2_value)\n",
    "\n",
    "##Getting adjusted R2 value \n",
    "\n",
    "##R2= 1- [(1-R2)(N-1)/N-1-p]\n",
    "\n",
    "#N - Total sample size\n",
    "#P - Total predictors\n",
    "\n",
    "N=X_test_rfe.shape[0]\n",
    "p=X_test_rfe.shape[1]\n",
    "\n",
    "value=((1-R2_value)*(N-1))/(N-1-p)\n",
    "adjusted_R2_square=1-value\n",
    "\n",
    "print('Test Adjusted R2 value from sci-kit learn for the given model is',adjusted_R2_square)"
   ]
  },
  {
   "cell_type": "markdown",
   "metadata": {
    "id": "C3gLcvYExe9s"
   },
   "source": [
    "# Let us check the validitiy of some assumptions in the linear regression.\n",
    "\n",
    "1. Features have linear dependancy with the predictor variable. --- We already verified this in pair plot in the begining\n",
    "2. Error terms are normally distributed.\n",
    "3. Variance of error term is uniform and follows the same pattern\n",
    "4. Check for mulit-collinearity "
   ]
  },
  {
   "cell_type": "code",
   "execution_count": 168,
   "metadata": {
    "id": "r_sEzQiv0uns"
   },
   "outputs": [],
   "source": [
    "y_train_price = lm.predict(X_train_rfe)\n",
    "y_test_price=lm.predict(X_test_rfe)"
   ]
  },
  {
   "cell_type": "code",
   "execution_count": 169,
   "metadata": {
    "colab": {
     "base_uri": "https://localhost:8080/",
     "height": 321
    },
    "id": "JZ4N08cSxKnX",
    "outputId": "09739b53-3593-43ce-9ce3-81c8922ae700"
   },
   "outputs": [
    {
     "data": {
      "text/plain": [
       "Text(0.5,1,'Error distribution in test set')"
      ]
     },
     "execution_count": 169,
     "metadata": {},
     "output_type": "execute_result"
    },
    {
     "data": {
      "image/png": "[encoded data removed]",
      "text/plain": [
       "<Figure size 1440x432 with 2 Axes>"
      ]
     },
     "metadata": {
      "needs_background": "light"
     },
     "output_type": "display_data"
    }
   ],
   "source": [
    "##Error terms are normally distributed\n",
    "plt.figure(figsize=[20,6])\n",
    "ax1=plt.subplot(1,2,1)\n",
    "sns.distplot((y_train - y_train_price), bins = 20)\n",
    "plt.title('Error distribution in training set')\n",
    "ax2=plt.subplot(1,2,2)\n",
    "sns.distplot((y_test - y_test_price), bins = 20)\n",
    "plt.title('Error distribution in test set')\n"
   ]
  },
  {
   "cell_type": "markdown",
   "metadata": {
    "id": "CNYrLM6N02N5"
   },
   "source": [
    "## Clearly the error term is showing normal distribution in training and test data"
   ]
  },
  {
   "cell_type": "code",
   "execution_count": 170,
   "metadata": {
    "colab": {
     "base_uri": "https://localhost:8080/",
     "height": 404
    },
    "id": "2ySGSSXxxKsu",
    "outputId": "703afa10-6e8d-440d-9bf1-a1460b3b9e94"
   },
   "outputs": [
    {
     "data": {
      "image/png": "[encoded data removed]",
      "text/plain": [
       "<Figure size 720x432 with 2 Axes>"
      ]
     },
     "metadata": {
      "needs_background": "light"
     },
     "output_type": "display_data"
    }
   ],
   "source": [
    "plt.figure(figsize=[10,6])\n",
    "ax1=plt.subplot(1,2,1)\n",
    "sns.scatterplot(y_train,y_train - y_train_price)\n",
    "plt.title('Error variance nature in training set')\n",
    "ax2=plt.subplot(1,2,2)\n",
    "sns.scatterplot(y_test,y_test - y_test_price)\n",
    "plt.title('Error variance nature in test set')\n",
    "plt.show()"
   ]
  },
  {
   "cell_type": "markdown",
   "metadata": {
    "id": "H4Hcq4Ir3Rb1"
   },
   "source": [
    "# We could find that the distribution of variance of error is clustered in the center and there is not any deviating trend in the variance"
   ]
  },
  {
   "cell_type": "markdown",
   "metadata": {
    "id": "8gqNaf3q4IjX"
   },
   "source": [
    "# From multi-collinearity we found like VIF for all predictor variables <5 so we are good "
   ]
  },
  {
   "cell_type": "code",
   "execution_count": 171,
   "metadata": {
    "colab": {
     "base_uri": "https://localhost:8080/"
    },
    "id": "W-6_wAfW4UB6",
    "outputId": "c41c1c30-81ec-4aaf-f802-14a9c3775d5d"
   },
   "outputs": [
    {
     "data": {
      "text/plain": [
       "0.8389132717597231"
      ]
     },
     "execution_count": 171,
     "metadata": {},
     "output_type": "execute_result"
    }
   ],
   "source": [
    "##Final model evaluation\n",
    "\n",
    "from sklearn.metrics import r2_score\n",
    "r2_score(y_test, y_test_price)"
   ]
  }
 ],
 "metadata": {
  "colab": {
   "collapsed_sections": [],
   "name": "Bike sharing Assignment.ipynb",
   "provenance": []
  },
  "kernelspec": {
   "display_name": "Python 3",
   "language": "python",
   "name": "python3"
  },
  "language_info": {
   "codemirror_mode": {
    "name": "ipython",
    "version": 3
   },
   "file_extension": ".py",
   "mimetype": "text/x-python",
   "name": "python",
   "nbconvert_exporter": "python",
   "pygments_lexer": "ipython3",
   "version": "3.7.0"
  }
 },
 "nbformat": 4,
 "nbformat_minor": 1
}
